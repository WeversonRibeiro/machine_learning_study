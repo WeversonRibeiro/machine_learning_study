{
  "nbformat": 4,
  "nbformat_minor": 0,
  "metadata": {
    "colab": {
      "provenance": []
    },
    "kernelspec": {
      "name": "python3",
      "display_name": "Python 3"
    },
    "language_info": {
      "name": "python"
    }
  },
  "cells": [
    {
      "cell_type": "markdown",
      "source": [
        "**NLP > Processamento de Linguagem Natural**\n",
        "\n",
        "Intermediário entre a comunicação Homem x Máquina"
      ],
      "metadata": {
        "id": "7uScopKY3FLO"
      }
    },
    {
      "cell_type": "markdown",
      "source": [
        "# Importando a Base de Dados"
      ],
      "metadata": {
        "id": "WDfK-0Wf7h8t"
      }
    },
    {
      "cell_type": "code",
      "execution_count": 10,
      "metadata": {
        "id": "Bl2q3GCuyI2D",
        "colab": {
          "base_uri": "https://localhost:8080/"
        },
        "outputId": "c8c5ef3d-9fb3-414c-8330-5a5ef70983d6"
      },
      "outputs": [
        {
          "output_type": "execute_result",
          "data": {
            "text/plain": [
              "<_io.TextIOWrapper name='artigos.txt' mode='r' encoding='UTF-8'>"
            ]
          },
          "metadata": {},
          "execution_count": 10
        }
      ],
      "source": [
        "open('artigos.txt', 'r')"
      ]
    },
    {
      "cell_type": "code",
      "source": [
        "with open('artigos.txt', 'r') as f:\n",
        "  artigos = f.read()\n",
        "\n",
        "print(artigos[:500])"
      ],
      "metadata": {
        "colab": {
          "base_uri": "https://localhost:8080/"
        },
        "id": "E7sL4XdS5tnA",
        "outputId": "fb9f474d-28eb-4572-8fd7-b8ac4a2ed406"
      },
      "execution_count": 11,
      "outputs": [
        {
          "output_type": "stream",
          "name": "stdout",
          "text": [
            "\n",
            "\n",
            "\n",
            "imagem \n",
            "\n",
            "Temos a seguinte classe que representa um usuário no nosso sistema:\n",
            "\n",
            "java\n",
            "\n",
            "Para salvar um novo usuário, várias validações são feitas, como por exemplo: Ver se o nome só contém letras, [**o CPF só números**] e ver se o usuário possui no mínimo 18 anos. Veja o método que faz essa validação:\n",
            "\n",
            "java \n",
            "\n",
            "Suponha agora que eu tenha outra classe, a classe `Produto`, que contém um atributo nome e eu quero fazer a mesma validação que fiz para o nome do usuário: Ver se só contém letras. E aí? Vou\n"
          ]
        }
      ]
    },
    {
      "cell_type": "code",
      "source": [
        "len(artigos)"
      ],
      "metadata": {
        "colab": {
          "base_uri": "https://localhost:8080/"
        },
        "id": "R76a6HPq6Do5",
        "outputId": "6e8069b2-692f-4657-b00a-afa83f09b7b0"
      },
      "execution_count": 12,
      "outputs": [
        {
          "output_type": "execute_result",
          "data": {
            "text/plain": [
              "2605046"
            ]
          },
          "metadata": {},
          "execution_count": 12
        }
      ]
    },
    {
      "cell_type": "code",
      "source": [
        "len(\"Olá\")"
      ],
      "metadata": {
        "colab": {
          "base_uri": "https://localhost:8080/"
        },
        "id": "DiA7Uc646r8S",
        "outputId": "9085c74c-3585-4c10-93bf-2f150511a191"
      },
      "execution_count": 13,
      "outputs": [
        {
          "output_type": "execute_result",
          "data": {
            "text/plain": [
              "3"
            ]
          },
          "metadata": {},
          "execution_count": 13
        }
      ]
    },
    {
      "cell_type": "markdown",
      "source": [
        "# Trabalhando com a Tokenização das Palavras"
      ],
      "metadata": {
        "id": "agDDGEsM7sTP"
      }
    },
    {
      "cell_type": "code",
      "source": [
        "texto_exemplo = \"Olá, tudo bem?\"\n",
        "palavras_separadas = texto_exemplo.split() # tokens\n",
        "print(palavras_separadas)\n",
        "print(len(palavras_separadas))"
      ],
      "metadata": {
        "colab": {
          "base_uri": "https://localhost:8080/"
        },
        "id": "TYWqJPyp6vL9",
        "outputId": "652cf317-5c78-41e8-ded0-0c1589a36af4"
      },
      "execution_count": 14,
      "outputs": [
        {
          "output_type": "stream",
          "name": "stdout",
          "text": [
            "['Olá,', 'tudo', 'bem?']\n",
            "3\n"
          ]
        }
      ]
    },
    {
      "cell_type": "code",
      "source": [
        "tokens = texto_exemplo.split()\n",
        "print(tokens)\n",
        "print(len(tokens))"
      ],
      "metadata": {
        "colab": {
          "base_uri": "https://localhost:8080/"
        },
        "id": "QwLEF8i17IFG",
        "outputId": "0173927b-2b38-44a2-aa53-5126c435ab7a"
      },
      "execution_count": 15,
      "outputs": [
        {
          "output_type": "stream",
          "name": "stdout",
          "text": [
            "['Olá,', 'tudo', 'bem?']\n",
            "3\n"
          ]
        }
      ]
    },
    {
      "cell_type": "code",
      "source": [
        "import nltk\n",
        "nltk.download('punkt')"
      ],
      "metadata": {
        "id": "JZFQN3t67jjR",
        "colab": {
          "base_uri": "https://localhost:8080/"
        },
        "outputId": "e46a2e19-b3aa-407c-979b-edd4978dc0a1"
      },
      "execution_count": 18,
      "outputs": [
        {
          "output_type": "stream",
          "name": "stderr",
          "text": [
            "[nltk_data] Downloading package punkt to /root/nltk_data...\n",
            "[nltk_data]   Unzipping tokenizers/punkt.zip.\n"
          ]
        }
      ]
    },
    {
      "cell_type": "code",
      "source": [
        "# Separa as palavras e os caracteres especiais\n",
        "palavras_separadas = nltk.tokenize.word_tokenize(texto_exemplo)\n",
        "print(palavras_separadas)"
      ],
      "metadata": {
        "colab": {
          "base_uri": "https://localhost:8080/"
        },
        "id": "n9QTZ-4WjvwF",
        "outputId": "7a86e5df-2213-47e3-f662-9e9ab83d4a7b"
      },
      "execution_count": 20,
      "outputs": [
        {
          "output_type": "stream",
          "name": "stdout",
          "text": [
            "['Olá', ',', 'tudo', 'bem', '?']\n"
          ]
        }
      ]
    },
    {
      "cell_type": "code",
      "source": [
        "len(palavras_separadas)"
      ],
      "metadata": {
        "colab": {
          "base_uri": "https://localhost:8080/"
        },
        "id": "e6VLNbuej_Fm",
        "outputId": "c8c621af-4123-4db2-f010-31cc14cdcfbb"
      },
      "execution_count": 21,
      "outputs": [
        {
          "output_type": "execute_result",
          "data": {
            "text/plain": [
              "5"
            ]
          },
          "metadata": {},
          "execution_count": 21
        }
      ]
    },
    {
      "cell_type": "code",
      "source": [
        "'palavra'.isalpha()"
      ],
      "metadata": {
        "colab": {
          "base_uri": "https://localhost:8080/"
        },
        "id": "mJQj3Cy2lHkW",
        "outputId": "33717b81-25df-413e-b853-02d183c188f5"
      },
      "execution_count": 24,
      "outputs": [
        {
          "output_type": "execute_result",
          "data": {
            "text/plain": [
              "True"
            ]
          },
          "metadata": {},
          "execution_count": 24
        }
      ]
    },
    {
      "cell_type": "code",
      "source": [
        "'./'.isalpha()"
      ],
      "metadata": {
        "colab": {
          "base_uri": "https://localhost:8080/"
        },
        "id": "MuIdpzH1lQWI",
        "outputId": "aa0fb903-f095-44ef-cd5f-d299232745b2"
      },
      "execution_count": 27,
      "outputs": [
        {
          "output_type": "execute_result",
          "data": {
            "text/plain": [
              "False"
            ]
          },
          "metadata": {},
          "execution_count": 27
        }
      ]
    },
    {
      "cell_type": "code",
      "source": [
        "# Manter somente os índices que possem caracteres alfabéticos\n",
        "def separa_palavras(lista_tokens):\n",
        "  lista_palavras = []\n",
        "  for token in lista_tokens:\n",
        "    if token.isalpha():\n",
        "      lista_palavras.append(token)\n",
        "  return lista_palavras"
      ],
      "metadata": {
        "id": "R7SmxEvik4-_"
      },
      "execution_count": 29,
      "outputs": []
    },
    {
      "cell_type": "code",
      "source": [
        "separa_palavras(palavras_separadas)"
      ],
      "metadata": {
        "colab": {
          "base_uri": "https://localhost:8080/"
        },
        "id": "CXuKqOnulop5",
        "outputId": "ce178ec5-c0f1-447f-88bf-82c5d71373b6"
      },
      "execution_count": 30,
      "outputs": [
        {
          "output_type": "execute_result",
          "data": {
            "text/plain": [
              "['Olá', 'tudo', 'bem']"
            ]
          },
          "metadata": {},
          "execution_count": 30
        }
      ]
    },
    {
      "cell_type": "code",
      "source": [
        "lista_tokens = nltk.tokenize.word_tokenize(artigos)\n",
        "lista_palavras = separa_palavras(lista_tokens)\n",
        "print(f'O número de palavras é {str(len(lista_palavras))}')"
      ],
      "metadata": {
        "colab": {
          "base_uri": "https://localhost:8080/"
        },
        "id": "ZvIAdMDrlwaK",
        "outputId": "0888083b-e0b0-458c-8748-adb2e6c35afd"
      },
      "execution_count": 32,
      "outputs": [
        {
          "output_type": "stream",
          "name": "stdout",
          "text": [
            "O número de palavras é 403104\n"
          ]
        }
      ]
    },
    {
      "cell_type": "code",
      "source": [
        "print(lista_palavras[:5])"
      ],
      "metadata": {
        "colab": {
          "base_uri": "https://localhost:8080/"
        },
        "id": "vsETmn2HmJrb",
        "outputId": "9feb6220-dc46-4fd0-d4b1-9201f3f82036"
      },
      "execution_count": 33,
      "outputs": [
        {
          "output_type": "stream",
          "name": "stdout",
          "text": [
            "['imagem', 'Temos', 'a', 'seguinte', 'classe']\n"
          ]
        }
      ]
    },
    {
      "cell_type": "markdown",
      "source": [
        "# Normalização de Palavras"
      ],
      "metadata": {
        "id": "YXHnYkzx75Oi"
      }
    },
    {
      "cell_type": "code",
      "source": [
        "# Normalizando as palavras para manter todas em caracteres minúsculos\n",
        "def normalizacao(lista_palavras):\n",
        "  lista_normalizada = []\n",
        "  for palavra in lista_palavras:\n",
        "    lista_normalizada.append(palavra.lower())\n",
        "  return lista_normalizada"
      ],
      "metadata": {
        "id": "Vp7wMY0-nAQ_"
      },
      "execution_count": 36,
      "outputs": []
    },
    {
      "cell_type": "code",
      "source": [
        "lista_normalizada = normalizacao(lista_palavras)\n",
        "print(lista_normalizada[:5])"
      ],
      "metadata": {
        "colab": {
          "base_uri": "https://localhost:8080/"
        },
        "id": "P0dFGJWinYwk",
        "outputId": "d765fbf6-90f8-4205-adee-a2e968ea74b5"
      },
      "execution_count": 37,
      "outputs": [
        {
          "output_type": "stream",
          "name": "stdout",
          "text": [
            "['imagem', 'temos', 'a', 'seguinte', 'classe']\n"
          ]
        }
      ]
    },
    {
      "cell_type": "code",
      "source": [
        "# Conjunto sem Repetições\n",
        "set([1,1,1,3,3,2,2,2,5,5,5,4,4,4,6,6,])"
      ],
      "metadata": {
        "colab": {
          "base_uri": "https://localhost:8080/"
        },
        "id": "2Fydv_1jngWL",
        "outputId": "105e084f-c531-4d4a-f1ea-3b1cb1cd9392"
      },
      "execution_count": 38,
      "outputs": [
        {
          "output_type": "execute_result",
          "data": {
            "text/plain": [
              "{1, 2, 3, 4, 5, 6}"
            ]
          },
          "metadata": {},
          "execution_count": 38
        }
      ]
    },
    {
      "cell_type": "code",
      "source": [
        "# Quantas palavras únicas que existem na nossa base de dados\n",
        "len(set(lista_normalizada))"
      ],
      "metadata": {
        "colab": {
          "base_uri": "https://localhost:8080/"
        },
        "id": "xjK6Rk2Cn8WK",
        "outputId": "36f866d8-3864-487d-f27d-8ead15092035"
      },
      "execution_count": 39,
      "outputs": [
        {
          "output_type": "execute_result",
          "data": {
            "text/plain": [
              "18465"
            ]
          },
          "metadata": {},
          "execution_count": 39
        }
      ]
    },
    {
      "cell_type": "markdown",
      "source": [
        "# Construindo o Gerador de Palavras (Corretas)"
      ],
      "metadata": {
        "id": "-eaj4N0b7_4H"
      }
    },
    {
      "cell_type": "code",
      "source": [
        "# Fatiamento da string para realizar operação de inlusão de letras  no meio nas palavras, a fim de verificar o resultado da operação\n",
        "lista = 'lgica'\n",
        "(lista[:1], lista[1:])"
      ],
      "metadata": {
        "colab": {
          "base_uri": "https://localhost:8080/"
        },
        "id": "X-R6G6MiuAdo",
        "outputId": "488d7f92-b182-4db3-e33d-b33ca1e546d5"
      },
      "execution_count": 42,
      "outputs": [
        {
          "output_type": "execute_result",
          "data": {
            "text/plain": [
              "('l', 'gica')"
            ]
          },
          "metadata": {},
          "execution_count": 42
        }
      ]
    },
    {
      "cell_type": "code",
      "source": [
        "def gerador_palavras(palavra):\n",
        "  fatias = []\n",
        "  for i in range(len(palavra) + 1):\n",
        "    fatias.append((palavra[:i], palavra[i:]))\n",
        "  print(fatias)"
      ],
      "metadata": {
        "id": "ZYYtv4b2oEZI"
      },
      "execution_count": 61,
      "outputs": []
    },
    {
      "cell_type": "code",
      "source": [
        "# Palavra correta: lógica\n",
        "gerador_palavras('lgica')"
      ],
      "metadata": {
        "colab": {
          "base_uri": "https://localhost:8080/"
        },
        "id": "o0EdV3xMvKW2",
        "outputId": "78ceb08a-b38c-42b0-f659-b1b45440b82b"
      },
      "execution_count": 62,
      "outputs": [
        {
          "output_type": "stream",
          "name": "stdout",
          "text": [
            "[('', 'lgica'), ('l', 'gica'), ('lg', 'ica'), ('lgi', 'ca'), ('lgic', 'a'), ('lgica', '')]\n"
          ]
        }
      ]
    },
    {
      "cell_type": "code",
      "source": [
        "def insere_letras(fatias):\n",
        "  novas_palavras = []\n",
        "  letras = 'abcdefghijklmnopqrstuvwxyzàáâãèéêìíîòóôõùúûç'\n",
        "  for lado_esquerdo_str, lado_direito_str in fatias:\n",
        "    for letra in letras:\n",
        "      novas_palavras.append(lado_esquerdo_str + letra + lado_direito_str)\n",
        "  return novas_palavras"
      ],
      "metadata": {
        "id": "ZQvT2HPqvOEn"
      },
      "execution_count": 63,
      "outputs": []
    },
    {
      "cell_type": "code",
      "source": [
        "def gerador_palavras(palavra):\n",
        "  fatias = []\n",
        "  for i in range(len(palavra) + 1):\n",
        "    fatias.append((palavra[:i], palavra[i:]))\n",
        "  palavras_geradas = insere_letras(fatias)\n",
        "  return palavras_geradas"
      ],
      "metadata": {
        "id": "_gE8zJz_w6yh"
      },
      "execution_count": 64,
      "outputs": []
    },
    {
      "cell_type": "code",
      "source": [
        "palavras_geradas = gerador_palavras('lgica')\n",
        "print(palavras_geradas)"
      ],
      "metadata": {
        "colab": {
          "base_uri": "https://localhost:8080/"
        },
        "id": "6P6UNg-8w7JU",
        "outputId": "0dda745c-f54e-43a6-bfb6-824d0538e432"
      },
      "execution_count": 65,
      "outputs": [
        {
          "output_type": "stream",
          "name": "stdout",
          "text": [
            "['algica', 'blgica', 'clgica', 'dlgica', 'elgica', 'flgica', 'glgica', 'hlgica', 'ilgica', 'jlgica', 'klgica', 'llgica', 'mlgica', 'nlgica', 'olgica', 'plgica', 'qlgica', 'rlgica', 'slgica', 'tlgica', 'ulgica', 'vlgica', 'wlgica', 'xlgica', 'ylgica', 'zlgica', 'àlgica', 'álgica', 'âlgica', 'ãlgica', 'èlgica', 'élgica', 'êlgica', 'ìlgica', 'ílgica', 'îlgica', 'òlgica', 'ólgica', 'ôlgica', 'õlgica', 'ùlgica', 'úlgica', 'ûlgica', 'çlgica', 'lagica', 'lbgica', 'lcgica', 'ldgica', 'legica', 'lfgica', 'lggica', 'lhgica', 'ligica', 'ljgica', 'lkgica', 'llgica', 'lmgica', 'lngica', 'logica', 'lpgica', 'lqgica', 'lrgica', 'lsgica', 'ltgica', 'lugica', 'lvgica', 'lwgica', 'lxgica', 'lygica', 'lzgica', 'làgica', 'lágica', 'lâgica', 'lãgica', 'lègica', 'légica', 'lêgica', 'lìgica', 'lígica', 'lîgica', 'lògica', 'lógica', 'lôgica', 'lõgica', 'lùgica', 'lúgica', 'lûgica', 'lçgica', 'lgaica', 'lgbica', 'lgcica', 'lgdica', 'lgeica', 'lgfica', 'lggica', 'lghica', 'lgiica', 'lgjica', 'lgkica', 'lglica', 'lgmica', 'lgnica', 'lgoica', 'lgpica', 'lgqica', 'lgrica', 'lgsica', 'lgtica', 'lguica', 'lgvica', 'lgwica', 'lgxica', 'lgyica', 'lgzica', 'lgàica', 'lgáica', 'lgâica', 'lgãica', 'lgèica', 'lgéica', 'lgêica', 'lgìica', 'lgíica', 'lgîica', 'lgòica', 'lgóica', 'lgôica', 'lgõica', 'lgùica', 'lgúica', 'lgûica', 'lgçica', 'lgiaca', 'lgibca', 'lgicca', 'lgidca', 'lgieca', 'lgifca', 'lgigca', 'lgihca', 'lgiica', 'lgijca', 'lgikca', 'lgilca', 'lgimca', 'lginca', 'lgioca', 'lgipca', 'lgiqca', 'lgirca', 'lgisca', 'lgitca', 'lgiuca', 'lgivca', 'lgiwca', 'lgixca', 'lgiyca', 'lgizca', 'lgiàca', 'lgiáca', 'lgiâca', 'lgiãca', 'lgièca', 'lgiéca', 'lgiêca', 'lgiìca', 'lgiíca', 'lgiîca', 'lgiòca', 'lgióca', 'lgiôca', 'lgiõca', 'lgiùca', 'lgiúca', 'lgiûca', 'lgiçca', 'lgicaa', 'lgicba', 'lgicca', 'lgicda', 'lgicea', 'lgicfa', 'lgicga', 'lgicha', 'lgicia', 'lgicja', 'lgicka', 'lgicla', 'lgicma', 'lgicna', 'lgicoa', 'lgicpa', 'lgicqa', 'lgicra', 'lgicsa', 'lgicta', 'lgicua', 'lgicva', 'lgicwa', 'lgicxa', 'lgicya', 'lgicza', 'lgicàa', 'lgicáa', 'lgicâa', 'lgicãa', 'lgicèa', 'lgicéa', 'lgicêa', 'lgicìa', 'lgicía', 'lgicîa', 'lgicòa', 'lgicóa', 'lgicôa', 'lgicõa', 'lgicùa', 'lgicúa', 'lgicûa', 'lgicça', 'lgicaa', 'lgicab', 'lgicac', 'lgicad', 'lgicae', 'lgicaf', 'lgicag', 'lgicah', 'lgicai', 'lgicaj', 'lgicak', 'lgical', 'lgicam', 'lgican', 'lgicao', 'lgicap', 'lgicaq', 'lgicar', 'lgicas', 'lgicat', 'lgicau', 'lgicav', 'lgicaw', 'lgicax', 'lgicay', 'lgicaz', 'lgicaà', 'lgicaá', 'lgicaâ', 'lgicaã', 'lgicaè', 'lgicaé', 'lgicaê', 'lgicaì', 'lgicaí', 'lgicaî', 'lgicaò', 'lgicaó', 'lgicaô', 'lgicaõ', 'lgicaù', 'lgicaú', 'lgicaû', 'lgicaç']\n"
          ]
        }
      ]
    },
    {
      "cell_type": "markdown",
      "source": [
        "## Calculando a frequência da palavra na Base de Dados e probabilidade de acerto da correção"
      ],
      "metadata": {
        "id": "n7EED3xe8Kx0"
      }
    },
    {
      "cell_type": "code",
      "source": [
        "# Verificar a frequência de palavras\n",
        "frequencia = nltk.FreqDist(lista_normalizada)\n",
        "frequencia.most_common(10)"
      ],
      "metadata": {
        "colab": {
          "base_uri": "https://localhost:8080/"
        },
        "id": "gWDLKptv1nr8",
        "outputId": "0606dc6a-2dca-4d56-c85d-5c2fff9fe68f"
      },
      "execution_count": 67,
      "outputs": [
        {
          "output_type": "execute_result",
          "data": {
            "text/plain": [
              "[('de', 15502),\n",
              " ('o', 14056),\n",
              " ('que', 12230),\n",
              " ('a', 11099),\n",
              " ('e', 10501),\n",
              " ('para', 7710),\n",
              " ('um', 6368),\n",
              " ('é', 5899),\n",
              " ('uma', 5220),\n",
              " ('do', 5124)]"
            ]
          },
          "metadata": {},
          "execution_count": 67
        }
      ]
    },
    {
      "cell_type": "code",
      "source": [
        "frequencia['lógica']"
      ],
      "metadata": {
        "colab": {
          "base_uri": "https://localhost:8080/"
        },
        "id": "Uq9k2oIu11hI",
        "outputId": "162e406b-e9ad-4da5-8c61-a08c6f54c3da"
      },
      "execution_count": 68,
      "outputs": [
        {
          "output_type": "execute_result",
          "data": {
            "text/plain": [
              "96"
            ]
          },
          "metadata": {},
          "execution_count": 68
        }
      ]
    },
    {
      "cell_type": "code",
      "source": [
        "# Variável global para otimizar a chamada do Corretor\n",
        "total_palavras = len(lista_normalizada)"
      ],
      "metadata": {
        "id": "VPMwyr_C2qBX"
      },
      "execution_count": 70,
      "outputs": []
    },
    {
      "cell_type": "code",
      "source": [
        "def probabilidade(palavra_gerada):\n",
        "  return frequencia[palavra_gerada] / total_palavras"
      ],
      "metadata": {
        "id": "rd1fm-GP2B1T"
      },
      "execution_count": 73,
      "outputs": []
    },
    {
      "cell_type": "code",
      "source": [
        "probabilidade('lógica')"
      ],
      "metadata": {
        "colab": {
          "base_uri": "https://localhost:8080/"
        },
        "id": "CP_t50qD299w",
        "outputId": "3ba9e2bb-92af-4431-b6b2-53a41706a24f"
      },
      "execution_count": 74,
      "outputs": [
        {
          "output_type": "execute_result",
          "data": {
            "text/plain": [
              "0.00023815194093831864"
            ]
          },
          "metadata": {},
          "execution_count": 74
        }
      ]
    },
    {
      "cell_type": "code",
      "source": [
        "probabilidade('lagica')"
      ],
      "metadata": {
        "colab": {
          "base_uri": "https://localhost:8080/"
        },
        "id": "tq-6kv523E4_",
        "outputId": "d1cc0e2d-0deb-4bbc-ead2-f595df34fa20"
      },
      "execution_count": 75,
      "outputs": [
        {
          "output_type": "execute_result",
          "data": {
            "text/plain": [
              "0.0"
            ]
          },
          "metadata": {},
          "execution_count": 75
        }
      ]
    },
    {
      "cell_type": "code",
      "source": [
        "probabilidade('logica')"
      ],
      "metadata": {
        "colab": {
          "base_uri": "https://localhost:8080/"
        },
        "id": "P0CIF3113IJI",
        "outputId": "42479b0e-d156-4928-f371-109b5b56c67e"
      },
      "execution_count": 76,
      "outputs": [
        {
          "output_type": "execute_result",
          "data": {
            "text/plain": [
              "0.0"
            ]
          },
          "metadata": {},
          "execution_count": 76
        }
      ]
    },
    {
      "cell_type": "markdown",
      "source": [
        "# Corretor v1"
      ],
      "metadata": {
        "id": "sACL1RKo8hs3"
      }
    },
    {
      "cell_type": "markdown",
      "source": [
        "Calcular a probabilidade para cada uma das palavras geradas e retornar a palavra com maior probabilidade"
      ],
      "metadata": {
        "id": "n5Y09xuW5oCR"
      }
    },
    {
      "cell_type": "code",
      "source": [
        "def corretor(palavra):\n",
        "  palavras_geradas = gerador_palavras(palavra)\n",
        "  palavra_correta = max(palavras_geradas, key=probabilidade)\n",
        "  return palavra_correta"
      ],
      "metadata": {
        "id": "PheRBX3UxCLj"
      },
      "execution_count": 80,
      "outputs": []
    },
    {
      "cell_type": "markdown",
      "source": [
        "**Obs: O corretor neste ponto do projeto, só está resolvendo casos onde o usuário esqueceu de preencher uma letra na palavra, ainda há outros tipos de operções/correções que precisam ser efetuadas**"
      ],
      "metadata": {
        "id": "Ufqxiw_T9Ao6"
      }
    },
    {
      "cell_type": "code",
      "source": [
        "corretor('lgica')"
      ],
      "metadata": {
        "colab": {
          "base_uri": "https://localhost:8080/",
          "height": 35
        },
        "id": "KtTC2814zAVG",
        "outputId": "51d81470-5260-4e80-edd1-c0302a8c2011"
      },
      "execution_count": 93,
      "outputs": [
        {
          "output_type": "execute_result",
          "data": {
            "text/plain": [
              "'lógica'"
            ],
            "application/vnd.google.colaboratory.intrinsic+json": {
              "type": "string"
            }
          },
          "metadata": {},
          "execution_count": 93
        }
      ]
    },
    {
      "cell_type": "markdown",
      "source": [
        " ## Avaliando a Taxa de Acerto do Corretor"
      ],
      "metadata": {
        "id": "2F6pY0-Y4Z6Y"
      }
    },
    {
      "cell_type": "code",
      "source": [
        "def cria_dados_teste(nome_arquivo):\n",
        "  lista_palavras_teste = []\n",
        "  f = open(nome_arquivo, 'r')\n",
        "  for linha in f:\n",
        "    palavra_correta, palavra_errada = linha.split()\n",
        "    lista_palavras_teste.append((palavra_correta, palavra_errada))\n",
        "  f.close()\n",
        "  return lista_palavras_teste"
      ],
      "metadata": {
        "id": "XA6fpDK63U9m"
      },
      "execution_count": 82,
      "outputs": []
    },
    {
      "cell_type": "code",
      "source": [
        "lista_teste = cria_dados_teste('palavras.txt')\n",
        "lista_teste"
      ],
      "metadata": {
        "colab": {
          "base_uri": "https://localhost:8080/"
        },
        "id": "-Kqk3w675V8E",
        "outputId": "1f85c7ce-dd52-407b-9523-f1fd00dea018"
      },
      "execution_count": 83,
      "outputs": [
        {
          "output_type": "execute_result",
          "data": {
            "text/plain": [
              "[('podemos', 'pyodemos'),\n",
              " ('esse', 'esje'),\n",
              " ('já', 'jrá'),\n",
              " ('nosso', 'nossov'),\n",
              " ('são', 'sãêo'),\n",
              " ('dos', 'dosa'),\n",
              " ('muito', 'muifo'),\n",
              " ('imagem', 'iômagem'),\n",
              " ('sua', 'ósua'),\n",
              " ('também', 'tambéùm'),\n",
              " ('ele', 'eme'),\n",
              " ('fazer', 'èazer'),\n",
              " ('temos', 'temfs'),\n",
              " ('essa', 'eàssa'),\n",
              " ('quando', 'quaôdo'),\n",
              " ('vamos', 'vamvos'),\n",
              " ('sobre', 'hsobre'),\n",
              " ('java', 'sjava'),\n",
              " ('das', 'daõs'),\n",
              " ('agora', 'agorah'),\n",
              " ('está', 'eòtá'),\n",
              " ('cada', 'céda'),\n",
              " ('mesmo', 'zmesmo'),\n",
              " ('nos', 'noâ'),\n",
              " ('forma', 'fobma'),\n",
              " ('seja', 'sejéa'),\n",
              " ('então', 'enêão'),\n",
              " ('criar', 'èriar'),\n",
              " ('código', 'cóeigo'),\n",
              " ('caso', 'casío'),\n",
              " ('exemplo', 'áexemplo'),\n",
              " ('tem', 'tĩem'),\n",
              " ('usuário', 'usuárôio'),\n",
              " ('dados', 'dfados'),\n",
              " ('python', 'pgthon'),\n",
              " ('nossa', 'nossah'),\n",
              " ('além', 'alémè'),\n",
              " ('assim', 'asõim'),\n",
              " ('ter', 'teb'),\n",
              " ('até', 'atĩ'),\n",
              " ('bem', 'âem'),\n",
              " ('design', 'desigen'),\n",
              " ('trabalho', 'trabalàho'),\n",
              " ('foi', 'foo'),\n",
              " ('apenas', 'apenaũ'),\n",
              " ('empresa', 'empresà'),\n",
              " ('valor', 'valíor'),\n",
              " ('será', 'serr'),\n",
              " ('entre', 'entke'),\n",
              " ('método', 'méqodo'),\n",
              " ('precisamos', 'precisamops'),\n",
              " ('ainda', 'ainàa'),\n",
              " ('vai', 'van'),\n",
              " ('conteúdo', 'ûconteúdo'),\n",
              " ('seus', 'çeus'),\n",
              " ('eu', 'eû'),\n",
              " ('todos', 'todtos'),\n",
              " ('tempo', 'temeo'),\n",
              " ('sempre', 'semre'),\n",
              " ('qual', 'quakl'),\n",
              " ('ela', 'elaá'),\n",
              " ('só', 'síó'),\n",
              " ('utilizar', 'utiqizar'),\n",
              " ('projeto', 'prhojeto'),\n",
              " ('site', 'siàe'),\n",
              " ('sem', 'seém'),\n",
              " ('pelo', 'peln'),\n",
              " ('alura', 'aléra'),\n",
              " ('dia', 'tdia'),\n",
              " ('tudo', 'tuúo'),\n",
              " ('podemos', 'kpodemos'),\n",
              " ('esse', 'eẽsse'),\n",
              " ('já', 'jé'),\n",
              " ('nosso', 'nçosso'),\n",
              " ('são', 'sãô'),\n",
              " ('dos', 'odos'),\n",
              " ('muito', 'tuito'),\n",
              " ('imagem', 'imõgem'),\n",
              " ('sua', 'siua'),\n",
              " ('também', 'tamvbém'),\n",
              " ('ele', 'elpe'),\n",
              " ('fazer', 'façzer'),\n",
              " ('temos', 'teos'),\n",
              " ('essa', 'eũsa'),\n",
              " ('quando', 'quaìdo'),\n",
              " ('vamos', 'vjmos'),\n",
              " ('sobre', 'sxobre'),\n",
              " ('java', 'jkva'),\n",
              " ('das', 'dms'),\n",
              " ('agora', 'agtora'),\n",
              " ('está', 'esútá'),\n",
              " ('cada', 'cava'),\n",
              " ('mesmo', 'medmo'),\n",
              " ('nos', 'ános'),\n",
              " ('forma', 'forûa'),\n",
              " ('seja', 'smeja'),\n",
              " ('então', 'enjtão'),\n",
              " ('criar', 'criôar'),\n",
              " ('código', 'cóàigo'),\n",
              " ('caso', 'èaso'),\n",
              " ('exemplo', 'exbemplo'),\n",
              " ('tem', 'túem'),\n",
              " ('usuário', 'usuárin'),\n",
              " ('dados', 'daáos'),\n",
              " ('python', 'pythoçn'),\n",
              " ('nossa', 'nossk'),\n",
              " ('além', 'âlém'),\n",
              " ('assim', 'aóssim'),\n",
              " ('ter', 'tãer'),\n",
              " ('até', 'vté'),\n",
              " ('bem', 'búm'),\n",
              " ('design', 'íesign'),\n",
              " ('trabalho', 'trabèalho'),\n",
              " ('foi', 'kfoi'),\n",
              " ('apenas', 'aapenas'),\n",
              " ('empresa', 'pmpresa'),\n",
              " ('valor', 'valoqr'),\n",
              " ('será', 'sçerá'),\n",
              " ('entre', 'entró'),\n",
              " ('método', 'nétodo'),\n",
              " ('precisamos', 'prefcisamos'),\n",
              " ('ainda', 'sainda'),\n",
              " ('vai', 'uai'),\n",
              " ('conteúdo', 'cĩonteúdo'),\n",
              " ('seus', 'sâus'),\n",
              " ('eu', 'ìeu'),\n",
              " ('todos', 'todás'),\n",
              " ('tempo', 'utempo'),\n",
              " ('sempre', 'sempce'),\n",
              " ('qual', 'fual'),\n",
              " ('ela', 'elal'),\n",
              " ('só', 'skó'),\n",
              " ('utilizar', 'utilĩzar'),\n",
              " ('projeto', 'proójeto'),\n",
              " ('site', 'isite'),\n",
              " ('sem', 'secm'),\n",
              " ('pelo', 'pẽlo'),\n",
              " ('alura', 'aluéa'),\n",
              " ('dia', 'dil'),\n",
              " ('tudo', 'tudy'),\n",
              " ('ela', 'qelay'),\n",
              " ('só', 'sód'),\n",
              " ('utilizar', 'dtilizacr'),\n",
              " ('projeto', 'bprojõto'),\n",
              " ('site', 'ysiteo'),\n",
              " ('sem', 'sõêm'),\n",
              " ('pelo', 'peàli'),\n",
              " ('alura', 'asuraó'),\n",
              " ('dia', 'deiìa'),\n",
              " ('tudo', 'tuĩdoì'),\n",
              " ('ela', 'eúaa'),\n",
              " ('só', 'ró'),\n",
              " ('utilizar', 'utilizẽaçr'),\n",
              " ('projeto', 'prêjetó'),\n",
              " ('site', 'sqiqte'),\n",
              " ('sem', 'sũexm'),\n",
              " ('pelo', 'pçlxo'),\n",
              " ('alura', 'uluraa'),\n",
              " ('dia', 'dĩaz'),\n",
              " ('tudo', 'kzudo'),\n",
              " ('corretor', 'correptor'),\n",
              " ('tática', 'trtica'),\n",
              " ('empoderamento', 'ewpoderamento'),\n",
              " ('linux', 'lifux'),\n",
              " ('cachorro', 'cachoçro'),\n",
              " ('gato', 'îgato'),\n",
              " ('cavalo', 'cakvalo'),\n",
              " ('relógio', 'relógiuo'),\n",
              " ('canela', 'canelac'),\n",
              " ('tênis', 'tênisy'),\n",
              " ('ansiosa', 'anciosa'),\n",
              " ('ansiosa', 'ancciosa'),\n",
              " ('ansiosa', 'ansioa'),\n",
              " ('empoderamento', 'empoderamento'),\n",
              " ('asterisco', 'asterístico'),\n",
              " ('gratuito', 'gratuíto'),\n",
              " ('entretido', 'entertido'),\n",
              " ('ritmo', 'ritimo'),\n",
              " ('idiota', 'indiota'),\n",
              " ('tomara', 'tomare'),\n",
              " ('seja', 'seje'),\n",
              " ('prevalecer', 'provalecer'),\n",
              " ('esteja', 'esteje'),\n",
              " ('mendigo', 'mindigo'),\n",
              " ('cérebro', 'célebro'),\n",
              " ('perturbar', 'pertubar')]"
            ]
          },
          "metadata": {},
          "execution_count": 83
        }
      ]
    },
    {
      "cell_type": "code",
      "source": [
        "def avaliador(testes):\n",
        "  numero_palavras = len(testes)\n",
        "  qtd_acerto = 0\n",
        "  for palavra_correta, palavra_errada in testes:\n",
        "    palavra_corrigida = corretor(palavra_errada)\n",
        "    if palavra_corrigida == palavra_correta:\n",
        "      qtd_acerto += 1\n",
        "  taxa_acerto = round(((qtd_acerto * 100) / numero_palavras), 2)\n",
        "  print(f'Corrigindo {taxa_acerto}% de {numero_palavras} palavras')"
      ],
      "metadata": {
        "id": "KcrWg77Q5ha6"
      },
      "execution_count": 90,
      "outputs": []
    },
    {
      "cell_type": "code",
      "source": [
        "avaliador(lista_teste)"
      ],
      "metadata": {
        "colab": {
          "base_uri": "https://localhost:8080/"
        },
        "id": "AA7DE-2a6uRR",
        "outputId": "7cb9c68e-b93e-4d68-e60e-6bc980b86569"
      },
      "execution_count": 91,
      "outputs": [
        {
          "output_type": "stream",
          "name": "stdout",
          "text": [
            "Corrigindo 1.08% de 186 palavras\n"
          ]
        }
      ]
    },
    {
      "cell_type": "markdown",
      "source": [
        "# Deletar Carácter em Excesso"
      ],
      "metadata": {
        "id": "sb7iY2NcgA4u"
      }
    },
    {
      "cell_type": "code",
      "source": [
        "palavra_teste = 'alógica'\n",
        "palavra_teste[1:]"
      ],
      "metadata": {
        "colab": {
          "base_uri": "https://localhost:8080/",
          "height": 35
        },
        "id": "_QnwjA6-hRGp",
        "outputId": "ba15959b-f1dc-4d63-d9bf-2ab2d9e5da30"
      },
      "execution_count": 95,
      "outputs": [
        {
          "output_type": "execute_result",
          "data": {
            "text/plain": [
              "'lógica'"
            ],
            "application/vnd.google.colaboratory.intrinsic+json": {
              "type": "string"
            }
          },
          "metadata": {},
          "execution_count": 95
        }
      ]
    },
    {
      "cell_type": "markdown",
      "source": [
        "**Obs: A função gera novas palavras a partir da remoção do primeiro caracter do \"lado_direito_str\" encontrado. Dessa forma, podemos remover os caracteces em excesso para encontrar a palavra correta**\\"
      ],
      "metadata": {
        "id": "bDiHRYyTiiNb"
      }
    },
    {
      "cell_type": "code",
      "source": [
        "def deletando_caracteres(fatias):\n",
        "  novas_palavras = []\n",
        "  for lado_esquerdo_str, lado_direito_str in fatias:\n",
        "    novas_palavras.append(lado_esquerdo_str + lado_direito_str[1:])\n",
        "  return novas_palavras"
      ],
      "metadata": {
        "id": "lVHv-aRo6xm0"
      },
      "execution_count": 94,
      "outputs": []
    },
    {
      "cell_type": "code",
      "source": [
        "def gerador_palavras(palavra):\n",
        "  fatias = []\n",
        "  for i in range(len(palavra) + 1):\n",
        "    fatias.append((palavra[:i], palavra[i:]))\n",
        "  palavras_geradas = insere_letras(fatias)\n",
        "  palavras_geradas += deletando_caracteres(fatias)\n",
        "  return palavras_geradas"
      ],
      "metadata": {
        "id": "YW9DcGKigont"
      },
      "execution_count": 96,
      "outputs": []
    },
    {
      "cell_type": "code",
      "source": [
        "palavra_teste = 'lóigica'\n",
        "palavras_geradas = gerador_palavras(palavra_teste)\n",
        "print(palavras_geradas)"
      ],
      "metadata": {
        "colab": {
          "base_uri": "https://localhost:8080/"
        },
        "id": "8JBSCynjh0gD",
        "outputId": "cbed4d09-146c-4ded-fee5-cb58c81d4284"
      },
      "execution_count": 97,
      "outputs": [
        {
          "output_type": "stream",
          "name": "stdout",
          "text": [
            "['alóigica', 'blóigica', 'clóigica', 'dlóigica', 'elóigica', 'flóigica', 'glóigica', 'hlóigica', 'ilóigica', 'jlóigica', 'klóigica', 'llóigica', 'mlóigica', 'nlóigica', 'olóigica', 'plóigica', 'qlóigica', 'rlóigica', 'slóigica', 'tlóigica', 'ulóigica', 'vlóigica', 'wlóigica', 'xlóigica', 'ylóigica', 'zlóigica', 'àlóigica', 'álóigica', 'âlóigica', 'ãlóigica', 'èlóigica', 'élóigica', 'êlóigica', 'ìlóigica', 'ílóigica', 'îlóigica', 'òlóigica', 'ólóigica', 'ôlóigica', 'õlóigica', 'ùlóigica', 'úlóigica', 'ûlóigica', 'çlóigica', 'laóigica', 'lbóigica', 'lcóigica', 'ldóigica', 'leóigica', 'lfóigica', 'lgóigica', 'lhóigica', 'lióigica', 'ljóigica', 'lkóigica', 'llóigica', 'lmóigica', 'lnóigica', 'loóigica', 'lpóigica', 'lqóigica', 'lróigica', 'lsóigica', 'ltóigica', 'luóigica', 'lvóigica', 'lwóigica', 'lxóigica', 'lyóigica', 'lzóigica', 'làóigica', 'láóigica', 'lâóigica', 'lãóigica', 'lèóigica', 'léóigica', 'lêóigica', 'lìóigica', 'líóigica', 'lîóigica', 'lòóigica', 'lóóigica', 'lôóigica', 'lõóigica', 'lùóigica', 'lúóigica', 'lûóigica', 'lçóigica', 'lóaigica', 'lóbigica', 'lócigica', 'lódigica', 'lóeigica', 'lófigica', 'lógigica', 'lóhigica', 'lóiigica', 'lójigica', 'lókigica', 'lóligica', 'lómigica', 'lónigica', 'lóoigica', 'lópigica', 'lóqigica', 'lórigica', 'lósigica', 'lótigica', 'lóuigica', 'lóvigica', 'lówigica', 'lóxigica', 'lóyigica', 'lózigica', 'lóàigica', 'lóáigica', 'lóâigica', 'lóãigica', 'lóèigica', 'lóéigica', 'lóêigica', 'lóìigica', 'lóíigica', 'lóîigica', 'lóòigica', 'lóóigica', 'lóôigica', 'lóõigica', 'lóùigica', 'lóúigica', 'lóûigica', 'lóçigica', 'lóiagica', 'lóibgica', 'lóicgica', 'lóidgica', 'lóiegica', 'lóifgica', 'lóiggica', 'lóihgica', 'lóiigica', 'lóijgica', 'lóikgica', 'lóilgica', 'lóimgica', 'lóingica', 'lóiogica', 'lóipgica', 'lóiqgica', 'lóirgica', 'lóisgica', 'lóitgica', 'lóiugica', 'lóivgica', 'lóiwgica', 'lóixgica', 'lóiygica', 'lóizgica', 'lóiàgica', 'lóiágica', 'lóiâgica', 'lóiãgica', 'lóiègica', 'lóiégica', 'lóiêgica', 'lóiìgica', 'lóiígica', 'lóiîgica', 'lóiògica', 'lóiógica', 'lóiôgica', 'lóiõgica', 'lóiùgica', 'lóiúgica', 'lóiûgica', 'lóiçgica', 'lóigaica', 'lóigbica', 'lóigcica', 'lóigdica', 'lóigeica', 'lóigfica', 'lóiggica', 'lóighica', 'lóigiica', 'lóigjica', 'lóigkica', 'lóiglica', 'lóigmica', 'lóignica', 'lóigoica', 'lóigpica', 'lóigqica', 'lóigrica', 'lóigsica', 'lóigtica', 'lóiguica', 'lóigvica', 'lóigwica', 'lóigxica', 'lóigyica', 'lóigzica', 'lóigàica', 'lóigáica', 'lóigâica', 'lóigãica', 'lóigèica', 'lóigéica', 'lóigêica', 'lóigìica', 'lóigíica', 'lóigîica', 'lóigòica', 'lóigóica', 'lóigôica', 'lóigõica', 'lóigùica', 'lóigúica', 'lóigûica', 'lóigçica', 'lóigiaca', 'lóigibca', 'lóigicca', 'lóigidca', 'lóigieca', 'lóigifca', 'lóigigca', 'lóigihca', 'lóigiica', 'lóigijca', 'lóigikca', 'lóigilca', 'lóigimca', 'lóiginca', 'lóigioca', 'lóigipca', 'lóigiqca', 'lóigirca', 'lóigisca', 'lóigitca', 'lóigiuca', 'lóigivca', 'lóigiwca', 'lóigixca', 'lóigiyca', 'lóigizca', 'lóigiàca', 'lóigiáca', 'lóigiâca', 'lóigiãca', 'lóigièca', 'lóigiéca', 'lóigiêca', 'lóigiìca', 'lóigiíca', 'lóigiîca', 'lóigiòca', 'lóigióca', 'lóigiôca', 'lóigiõca', 'lóigiùca', 'lóigiúca', 'lóigiûca', 'lóigiçca', 'lóigicaa', 'lóigicba', 'lóigicca', 'lóigicda', 'lóigicea', 'lóigicfa', 'lóigicga', 'lóigicha', 'lóigicia', 'lóigicja', 'lóigicka', 'lóigicla', 'lóigicma', 'lóigicna', 'lóigicoa', 'lóigicpa', 'lóigicqa', 'lóigicra', 'lóigicsa', 'lóigicta', 'lóigicua', 'lóigicva', 'lóigicwa', 'lóigicxa', 'lóigicya', 'lóigicza', 'lóigicàa', 'lóigicáa', 'lóigicâa', 'lóigicãa', 'lóigicèa', 'lóigicéa', 'lóigicêa', 'lóigicìa', 'lóigicía', 'lóigicîa', 'lóigicòa', 'lóigicóa', 'lóigicôa', 'lóigicõa', 'lóigicùa', 'lóigicúa', 'lóigicûa', 'lóigicça', 'lóigicaa', 'lóigicab', 'lóigicac', 'lóigicad', 'lóigicae', 'lóigicaf', 'lóigicag', 'lóigicah', 'lóigicai', 'lóigicaj', 'lóigicak', 'lóigical', 'lóigicam', 'lóigican', 'lóigicao', 'lóigicap', 'lóigicaq', 'lóigicar', 'lóigicas', 'lóigicat', 'lóigicau', 'lóigicav', 'lóigicaw', 'lóigicax', 'lóigicay', 'lóigicaz', 'lóigicaà', 'lóigicaá', 'lóigicaâ', 'lóigicaã', 'lóigicaè', 'lóigicaé', 'lóigicaê', 'lóigicaì', 'lóigicaí', 'lóigicaî', 'lóigicaò', 'lóigicaó', 'lóigicaô', 'lóigicaõ', 'lóigicaù', 'lóigicaú', 'lóigicaû', 'lóigicaç', 'óigica', 'ligica', 'lógica', 'lóiica', 'lóigca', 'lóigia', 'lóigic', 'lóigica']\n"
          ]
        }
      ]
    },
    {
      "cell_type": "markdown",
      "source": [
        "# Corretor v2"
      ],
      "metadata": {
        "id": "kdS2ymFAqHn_"
      }
    },
    {
      "cell_type": "markdown",
      "source": [
        "**Obs: O corretor neste ponto do projeto, está resolvendo além do caso onde o usuário esqueceu de preencher uma letra na palavra e também deletando UM carácter em exesso na palavra, ainda há outros tipos de operções/correções que precisam ser efetuadas.**"
      ],
      "metadata": {
        "id": "URfx86fakJnJ"
      }
    },
    {
      "cell_type": "code",
      "source": [
        "corretor('lóigica')"
      ],
      "metadata": {
        "colab": {
          "base_uri": "https://localhost:8080/",
          "height": 35
        },
        "id": "sq3ZNqk1iAIz",
        "outputId": "c4e59ca3-4c25-4b85-cb3a-ebdb42ae4d78"
      },
      "execution_count": 101,
      "outputs": [
        {
          "output_type": "execute_result",
          "data": {
            "text/plain": [
              "'lógica'"
            ],
            "application/vnd.google.colaboratory.intrinsic+json": {
              "type": "string"
            }
          },
          "metadata": {},
          "execution_count": 101
        }
      ]
    },
    {
      "cell_type": "code",
      "source": [
        "avaliador(lista_teste)"
      ],
      "metadata": {
        "colab": {
          "base_uri": "https://localhost:8080/"
        },
        "id": "yL6Z0r5Xianu",
        "outputId": "80b15fba-a436-4a40-cc22-b4c452b425a0"
      },
      "execution_count": 102,
      "outputs": [
        {
          "output_type": "stream",
          "name": "stdout",
          "text": [
            "Corrigindo 41.4% de 186 palavras\n"
          ]
        }
      ]
    },
    {
      "cell_type": "markdown",
      "source": [
        "# Troca de Carácter Escrito de Forma Equivocada"
      ],
      "metadata": {
        "id": "8vylhwWwkYHt"
      }
    },
    {
      "cell_type": "markdown",
      "source": [
        "**Obs: A função gera novas palavras a partir da troca do primeiro carácter do \"lado_direito_str\". Dessa forma, podemos trocar os carácteres a fim de encontrar a palavra correta.**"
      ],
      "metadata": {
        "id": "sbGCFwTzmFPM"
      }
    },
    {
      "cell_type": "code",
      "source": [
        "def troca_letras(fatias):\n",
        "  novas_palavras = []\n",
        "  letras = 'abcdefghijklmnopqrstuvwxyzàáâãèéêìíîòóôõùúûç'\n",
        "  for lado_esquerdo_str, lado_direito_str in fatias:\n",
        "    for letra in letras:\n",
        "      novas_palavras.append(lado_esquerdo_str + letra + lado_direito_str[1:])\n",
        "  return novas_palavras"
      ],
      "metadata": {
        "id": "pwUOTzX5j4Yd"
      },
      "execution_count": 103,
      "outputs": []
    },
    {
      "cell_type": "code",
      "source": [
        "def gerador_palavras(palavra):\n",
        "  fatias = []\n",
        "  for i in range(len(palavra) + 1):\n",
        "    fatias.append((palavra[:i], palavra[i:]))\n",
        "  palavras_geradas = insere_letras(fatias)\n",
        "  palavras_geradas += deletando_caracteres(fatias)\n",
        "  palavras_geradas += troca_letras(fatias)\n",
        "  return palavras_geradas"
      ],
      "metadata": {
        "id": "kN74Z5UWmUuy"
      },
      "execution_count": 104,
      "outputs": []
    },
    {
      "cell_type": "code",
      "source": [
        "palavra_teste = 'lígica'\n",
        "palavras_geradas = gerador_palavras(palavra_teste)\n",
        "print(palavras_geradas)"
      ],
      "metadata": {
        "colab": {
          "base_uri": "https://localhost:8080/"
        },
        "id": "X5MPyMRlpRDn",
        "outputId": "dcbb455a-7aa9-425b-cdf3-bf88da4bba9f"
      },
      "execution_count": 109,
      "outputs": [
        {
          "output_type": "stream",
          "name": "stdout",
          "text": [
            "['alígica', 'blígica', 'clígica', 'dlígica', 'elígica', 'flígica', 'glígica', 'hlígica', 'ilígica', 'jlígica', 'klígica', 'llígica', 'mlígica', 'nlígica', 'olígica', 'plígica', 'qlígica', 'rlígica', 'slígica', 'tlígica', 'ulígica', 'vlígica', 'wlígica', 'xlígica', 'ylígica', 'zlígica', 'àlígica', 'álígica', 'âlígica', 'ãlígica', 'èlígica', 'élígica', 'êlígica', 'ìlígica', 'ílígica', 'îlígica', 'òlígica', 'ólígica', 'ôlígica', 'õlígica', 'ùlígica', 'úlígica', 'ûlígica', 'çlígica', 'laígica', 'lbígica', 'lcígica', 'ldígica', 'leígica', 'lfígica', 'lgígica', 'lhígica', 'liígica', 'ljígica', 'lkígica', 'llígica', 'lmígica', 'lnígica', 'loígica', 'lpígica', 'lqígica', 'lrígica', 'lsígica', 'ltígica', 'luígica', 'lvígica', 'lwígica', 'lxígica', 'lyígica', 'lzígica', 'làígica', 'láígica', 'lâígica', 'lãígica', 'lèígica', 'léígica', 'lêígica', 'lìígica', 'líígica', 'lîígica', 'lòígica', 'lóígica', 'lôígica', 'lõígica', 'lùígica', 'lúígica', 'lûígica', 'lçígica', 'líagica', 'líbgica', 'lícgica', 'lídgica', 'líegica', 'lífgica', 'líggica', 'líhgica', 'líigica', 'líjgica', 'líkgica', 'lílgica', 'límgica', 'língica', 'líogica', 'lípgica', 'líqgica', 'lírgica', 'lísgica', 'lítgica', 'líugica', 'lívgica', 'líwgica', 'líxgica', 'líygica', 'lízgica', 'líàgica', 'líágica', 'líâgica', 'líãgica', 'líègica', 'líégica', 'líêgica', 'líìgica', 'líígica', 'líîgica', 'líògica', 'líógica', 'líôgica', 'líõgica', 'líùgica', 'líúgica', 'líûgica', 'líçgica', 'lígaica', 'lígbica', 'lígcica', 'lígdica', 'lígeica', 'lígfica', 'líggica', 'líghica', 'lígiica', 'lígjica', 'lígkica', 'líglica', 'lígmica', 'lígnica', 'lígoica', 'lígpica', 'lígqica', 'lígrica', 'lígsica', 'lígtica', 'líguica', 'lígvica', 'lígwica', 'lígxica', 'lígyica', 'lígzica', 'lígàica', 'lígáica', 'lígâica', 'lígãica', 'lígèica', 'lígéica', 'lígêica', 'lígìica', 'lígíica', 'lígîica', 'lígòica', 'lígóica', 'lígôica', 'lígõica', 'lígùica', 'lígúica', 'lígûica', 'lígçica', 'lígiaca', 'lígibca', 'lígicca', 'lígidca', 'lígieca', 'lígifca', 'lígigca', 'lígihca', 'lígiica', 'lígijca', 'lígikca', 'lígilca', 'lígimca', 'líginca', 'lígioca', 'lígipca', 'lígiqca', 'lígirca', 'lígisca', 'lígitca', 'lígiuca', 'lígivca', 'lígiwca', 'lígixca', 'lígiyca', 'lígizca', 'lígiàca', 'lígiáca', 'lígiâca', 'lígiãca', 'lígièca', 'lígiéca', 'lígiêca', 'lígiìca', 'lígiíca', 'lígiîca', 'lígiòca', 'lígióca', 'lígiôca', 'lígiõca', 'lígiùca', 'lígiúca', 'lígiûca', 'lígiçca', 'lígicaa', 'lígicba', 'lígicca', 'lígicda', 'lígicea', 'lígicfa', 'lígicga', 'lígicha', 'lígicia', 'lígicja', 'lígicka', 'lígicla', 'lígicma', 'lígicna', 'lígicoa', 'lígicpa', 'lígicqa', 'lígicra', 'lígicsa', 'lígicta', 'lígicua', 'lígicva', 'lígicwa', 'lígicxa', 'lígicya', 'lígicza', 'lígicàa', 'lígicáa', 'lígicâa', 'lígicãa', 'lígicèa', 'lígicéa', 'lígicêa', 'lígicìa', 'lígicía', 'lígicîa', 'lígicòa', 'lígicóa', 'lígicôa', 'lígicõa', 'lígicùa', 'lígicúa', 'lígicûa', 'lígicça', 'lígicaa', 'lígicab', 'lígicac', 'lígicad', 'lígicae', 'lígicaf', 'lígicag', 'lígicah', 'lígicai', 'lígicaj', 'lígicak', 'lígical', 'lígicam', 'lígican', 'lígicao', 'lígicap', 'lígicaq', 'lígicar', 'lígicas', 'lígicat', 'lígicau', 'lígicav', 'lígicaw', 'lígicax', 'lígicay', 'lígicaz', 'lígicaà', 'lígicaá', 'lígicaâ', 'lígicaã', 'lígicaè', 'lígicaé', 'lígicaê', 'lígicaì', 'lígicaí', 'lígicaî', 'lígicaò', 'lígicaó', 'lígicaô', 'lígicaõ', 'lígicaù', 'lígicaú', 'lígicaû', 'lígicaç', 'ígica', 'lgica', 'líica', 'lígca', 'lígia', 'lígic', 'lígica', 'aígica', 'bígica', 'cígica', 'dígica', 'eígica', 'fígica', 'gígica', 'hígica', 'iígica', 'jígica', 'kígica', 'lígica', 'mígica', 'nígica', 'oígica', 'pígica', 'qígica', 'rígica', 'sígica', 'tígica', 'uígica', 'vígica', 'wígica', 'xígica', 'yígica', 'zígica', 'àígica', 'áígica', 'âígica', 'ãígica', 'èígica', 'éígica', 'êígica', 'ìígica', 'íígica', 'îígica', 'òígica', 'óígica', 'ôígica', 'õígica', 'ùígica', 'úígica', 'ûígica', 'çígica', 'lagica', 'lbgica', 'lcgica', 'ldgica', 'legica', 'lfgica', 'lggica', 'lhgica', 'ligica', 'ljgica', 'lkgica', 'llgica', 'lmgica', 'lngica', 'logica', 'lpgica', 'lqgica', 'lrgica', 'lsgica', 'ltgica', 'lugica', 'lvgica', 'lwgica', 'lxgica', 'lygica', 'lzgica', 'làgica', 'lágica', 'lâgica', 'lãgica', 'lègica', 'légica', 'lêgica', 'lìgica', 'lígica', 'lîgica', 'lògica', 'lógica', 'lôgica', 'lõgica', 'lùgica', 'lúgica', 'lûgica', 'lçgica', 'líaica', 'líbica', 'lícica', 'lídica', 'líeica', 'lífica', 'lígica', 'líhica', 'líiica', 'líjica', 'líkica', 'lílica', 'límica', 'línica', 'líoica', 'lípica', 'líqica', 'lírica', 'lísica', 'lítica', 'líuica', 'lívica', 'líwica', 'líxica', 'líyica', 'lízica', 'líàica', 'líáica', 'líâica', 'líãica', 'líèica', 'líéica', 'líêica', 'líìica', 'lííica', 'líîica', 'líòica', 'líóica', 'líôica', 'líõica', 'líùica', 'líúica', 'líûica', 'líçica', 'lígaca', 'lígbca', 'lígcca', 'lígdca', 'lígeca', 'lígfca', 'líggca', 'líghca', 'lígica', 'lígjca', 'lígkca', 'líglca', 'lígmca', 'lígnca', 'lígoca', 'lígpca', 'lígqca', 'lígrca', 'lígsca', 'lígtca', 'líguca', 'lígvca', 'lígwca', 'lígxca', 'lígyca', 'lígzca', 'lígàca', 'lígáca', 'lígâca', 'lígãca', 'lígèca', 'lígéca', 'lígêca', 'lígìca', 'lígíca', 'lígîca', 'lígòca', 'lígóca', 'lígôca', 'lígõca', 'lígùca', 'lígúca', 'lígûca', 'lígçca', 'lígiaa', 'lígiba', 'lígica', 'lígida', 'lígiea', 'lígifa', 'lígiga', 'lígiha', 'lígiia', 'lígija', 'lígika', 'lígila', 'lígima', 'lígina', 'lígioa', 'lígipa', 'lígiqa', 'lígira', 'lígisa', 'lígita', 'lígiua', 'lígiva', 'lígiwa', 'lígixa', 'lígiya', 'lígiza', 'lígiàa', 'lígiáa', 'lígiâa', 'lígiãa', 'lígièa', 'lígiéa', 'lígiêa', 'lígiìa', 'lígiía', 'lígiîa', 'lígiòa', 'lígióa', 'lígiôa', 'lígiõa', 'lígiùa', 'lígiúa', 'lígiûa', 'lígiça', 'lígica', 'lígicb', 'lígicc', 'lígicd', 'lígice', 'lígicf', 'lígicg', 'lígich', 'lígici', 'lígicj', 'lígick', 'lígicl', 'lígicm', 'lígicn', 'lígico', 'lígicp', 'lígicq', 'lígicr', 'lígics', 'lígict', 'lígicu', 'lígicv', 'lígicw', 'lígicx', 'lígicy', 'lígicz', 'lígicà', 'lígicá', 'lígicâ', 'lígicã', 'lígicè', 'lígicé', 'lígicê', 'lígicì', 'lígicí', 'lígicî', 'lígicò', 'lígicó', 'lígicô', 'lígicõ', 'lígicù', 'lígicú', 'lígicû', 'lígicç', 'lígicaa', 'lígicab', 'lígicac', 'lígicad', 'lígicae', 'lígicaf', 'lígicag', 'lígicah', 'lígicai', 'lígicaj', 'lígicak', 'lígical', 'lígicam', 'lígican', 'lígicao', 'lígicap', 'lígicaq', 'lígicar', 'lígicas', 'lígicat', 'lígicau', 'lígicav', 'lígicaw', 'lígicax', 'lígicay', 'lígicaz', 'lígicaà', 'lígicaá', 'lígicaâ', 'lígicaã', 'lígicaè', 'lígicaé', 'lígicaê', 'lígicaì', 'lígicaí', 'lígicaî', 'lígicaò', 'lígicaó', 'lígicaô', 'lígicaõ', 'lígicaù', 'lígicaú', 'lígicaû', 'lígicaç']\n"
          ]
        }
      ]
    },
    {
      "cell_type": "markdown",
      "source": [
        "# Corretor v3"
      ],
      "metadata": {
        "id": "nLaJRZL8qK0W"
      }
    },
    {
      "cell_type": "code",
      "source": [
        "corretor('lígica')"
      ],
      "metadata": {
        "colab": {
          "base_uri": "https://localhost:8080/",
          "height": 35
        },
        "id": "pKPXN6SlnQ4h",
        "outputId": "41a1c41a-97dd-4eb2-9f9b-ca405427734a"
      },
      "execution_count": 113,
      "outputs": [
        {
          "output_type": "execute_result",
          "data": {
            "text/plain": [
              "'lógica'"
            ],
            "application/vnd.google.colaboratory.intrinsic+json": {
              "type": "string"
            }
          },
          "metadata": {},
          "execution_count": 113
        }
      ]
    },
    {
      "cell_type": "code",
      "source": [
        "avaliador(lista_teste)"
      ],
      "metadata": {
        "colab": {
          "base_uri": "https://localhost:8080/"
        },
        "id": "IGY_-wW-nU_I",
        "outputId": "7183e7d3-190e-4dcb-af9c-8105fcbe43f9"
      },
      "execution_count": 114,
      "outputs": [
        {
          "output_type": "stream",
          "name": "stdout",
          "text": [
            "Corrigindo 76.34% de 186 palavras\n"
          ]
        }
      ]
    },
    {
      "cell_type": "markdown",
      "source": [
        "# Inversão de Caractéres"
      ],
      "metadata": {
        "id": "viU714jLp2IO"
      }
    },
    {
      "cell_type": "markdown",
      "source": [
        "**Obs: A função gera novas palavras a partir da troca de posição do segundo carácter do \"lado_direito_str\" pelo primeiro carácter do \"lado_direito_str\". Dessa forma, podemos trocar a posição dos carácteres a fim de encontrar a palavra correta.**"
      ],
      "metadata": {
        "id": "nIozJTIXqoC2"
      }
    },
    {
      "cell_type": "code",
      "source": [
        "def inverte_letras(fatias):\n",
        "  novas_palavras = []\n",
        "  for lado_esquerdo_str, lado_direito_str in fatias:\n",
        "    if len(lado_direito_str) > 1:\n",
        "      novas_palavras.append(lado_esquerdo_str + lado_direito_str[1] + lado_direito_str[0] + lado_direito_str[2:])\n",
        "  return novas_palavras"
      ],
      "metadata": {
        "id": "XZXgA3X0n5mB"
      },
      "execution_count": 123,
      "outputs": []
    },
    {
      "cell_type": "code",
      "source": [
        "def gerador_palavras(palavra):\n",
        "  fatias = []\n",
        "  for i in range(len(palavra) + 1):\n",
        "    fatias.append((palavra[:i], palavra[i:]))\n",
        "  palavras_geradas = insere_letras(fatias)\n",
        "  palavras_geradas += deletando_caracteres(fatias)\n",
        "  palavras_geradas += troca_letras(fatias)\n",
        "  palavras_geradas += inverte_letras(fatias)\n",
        "  return palavras_geradas"
      ],
      "metadata": {
        "id": "TtckSNlLoS74"
      },
      "execution_count": 124,
      "outputs": []
    },
    {
      "cell_type": "code",
      "source": [
        "palavra_teste = 'lógcia'\n",
        "palavras_geradas = gerador_palavras(palavra_teste)\n",
        "print(palavras_geradas)"
      ],
      "metadata": {
        "colab": {
          "base_uri": "https://localhost:8080/"
        },
        "id": "DXcZ7sYloTA9",
        "outputId": "6f84de8e-c78c-4827-f0d5-01a5a67a5fbe"
      },
      "execution_count": 125,
      "outputs": [
        {
          "output_type": "stream",
          "name": "stdout",
          "text": [
            "['alógcia', 'blógcia', 'clógcia', 'dlógcia', 'elógcia', 'flógcia', 'glógcia', 'hlógcia', 'ilógcia', 'jlógcia', 'klógcia', 'llógcia', 'mlógcia', 'nlógcia', 'ológcia', 'plógcia', 'qlógcia', 'rlógcia', 'slógcia', 'tlógcia', 'ulógcia', 'vlógcia', 'wlógcia', 'xlógcia', 'ylógcia', 'zlógcia', 'àlógcia', 'álógcia', 'âlógcia', 'ãlógcia', 'èlógcia', 'élógcia', 'êlógcia', 'ìlógcia', 'ílógcia', 'îlógcia', 'òlógcia', 'ólógcia', 'ôlógcia', 'õlógcia', 'ùlógcia', 'úlógcia', 'ûlógcia', 'çlógcia', 'laógcia', 'lbógcia', 'lcógcia', 'ldógcia', 'leógcia', 'lfógcia', 'lgógcia', 'lhógcia', 'liógcia', 'ljógcia', 'lkógcia', 'llógcia', 'lmógcia', 'lnógcia', 'loógcia', 'lpógcia', 'lqógcia', 'lrógcia', 'lsógcia', 'ltógcia', 'luógcia', 'lvógcia', 'lwógcia', 'lxógcia', 'lyógcia', 'lzógcia', 'làógcia', 'láógcia', 'lâógcia', 'lãógcia', 'lèógcia', 'léógcia', 'lêógcia', 'lìógcia', 'líógcia', 'lîógcia', 'lòógcia', 'lóógcia', 'lôógcia', 'lõógcia', 'lùógcia', 'lúógcia', 'lûógcia', 'lçógcia', 'lóagcia', 'lóbgcia', 'lócgcia', 'lódgcia', 'lóegcia', 'lófgcia', 'lóggcia', 'lóhgcia', 'lóigcia', 'lójgcia', 'lókgcia', 'lólgcia', 'lómgcia', 'lóngcia', 'lóogcia', 'lópgcia', 'lóqgcia', 'lórgcia', 'lósgcia', 'lótgcia', 'lóugcia', 'lóvgcia', 'lówgcia', 'lóxgcia', 'lóygcia', 'lózgcia', 'lóàgcia', 'lóágcia', 'lóâgcia', 'lóãgcia', 'lóègcia', 'lóégcia', 'lóêgcia', 'lóìgcia', 'lóígcia', 'lóîgcia', 'lóògcia', 'lóógcia', 'lóôgcia', 'lóõgcia', 'lóùgcia', 'lóúgcia', 'lóûgcia', 'lóçgcia', 'lógacia', 'lógbcia', 'lógccia', 'lógdcia', 'lógecia', 'lógfcia', 'lóggcia', 'lóghcia', 'lógicia', 'lógjcia', 'lógkcia', 'lóglcia', 'lógmcia', 'lógncia', 'lógocia', 'lógpcia', 'lógqcia', 'lógrcia', 'lógscia', 'lógtcia', 'lógucia', 'lógvcia', 'lógwcia', 'lógxcia', 'lógycia', 'lógzcia', 'lógàcia', 'lógácia', 'lógâcia', 'lógãcia', 'lógècia', 'lógécia', 'lógêcia', 'lógìcia', 'lógícia', 'lógîcia', 'lógòcia', 'lógócia', 'lógôcia', 'lógõcia', 'lógùcia', 'lógúcia', 'lógûcia', 'lógçcia', 'lógcaia', 'lógcbia', 'lógccia', 'lógcdia', 'lógceia', 'lógcfia', 'lógcgia', 'lógchia', 'lógciia', 'lógcjia', 'lógckia', 'lógclia', 'lógcmia', 'lógcnia', 'lógcoia', 'lógcpia', 'lógcqia', 'lógcria', 'lógcsia', 'lógctia', 'lógcuia', 'lógcvia', 'lógcwia', 'lógcxia', 'lógcyia', 'lógczia', 'lógcàia', 'lógcáia', 'lógcâia', 'lógcãia', 'lógcèia', 'lógcéia', 'lógcêia', 'lógcìia', 'lógcíia', 'lógcîia', 'lógcòia', 'lógcóia', 'lógcôia', 'lógcõia', 'lógcùia', 'lógcúia', 'lógcûia', 'lógcçia', 'lógciaa', 'lógciba', 'lógcica', 'lógcida', 'lógciea', 'lógcifa', 'lógciga', 'lógciha', 'lógciia', 'lógcija', 'lógcika', 'lógcila', 'lógcima', 'lógcina', 'lógcioa', 'lógcipa', 'lógciqa', 'lógcira', 'lógcisa', 'lógcita', 'lógciua', 'lógciva', 'lógciwa', 'lógcixa', 'lógciya', 'lógciza', 'lógciàa', 'lógciáa', 'lógciâa', 'lógciãa', 'lógcièa', 'lógciéa', 'lógciêa', 'lógciìa', 'lógciía', 'lógciîa', 'lógciòa', 'lógcióa', 'lógciôa', 'lógciõa', 'lógciùa', 'lógciúa', 'lógciûa', 'lógciça', 'lógciaa', 'lógciab', 'lógciac', 'lógciad', 'lógciae', 'lógciaf', 'lógciag', 'lógciah', 'lógciai', 'lógciaj', 'lógciak', 'lógcial', 'lógciam', 'lógcian', 'lógciao', 'lógciap', 'lógciaq', 'lógciar', 'lógcias', 'lógciat', 'lógciau', 'lógciav', 'lógciaw', 'lógciax', 'lógciay', 'lógciaz', 'lógciaà', 'lógciaá', 'lógciaâ', 'lógciaã', 'lógciaè', 'lógciaé', 'lógciaê', 'lógciaì', 'lógciaí', 'lógciaî', 'lógciaò', 'lógciaó', 'lógciaô', 'lógciaõ', 'lógciaù', 'lógciaú', 'lógciaû', 'lógciaç', 'ógcia', 'lgcia', 'lócia', 'lógia', 'lógca', 'lógci', 'lógcia', 'aógcia', 'bógcia', 'cógcia', 'dógcia', 'eógcia', 'fógcia', 'gógcia', 'hógcia', 'iógcia', 'jógcia', 'kógcia', 'lógcia', 'mógcia', 'nógcia', 'oógcia', 'pógcia', 'qógcia', 'rógcia', 'sógcia', 'tógcia', 'uógcia', 'vógcia', 'wógcia', 'xógcia', 'yógcia', 'zógcia', 'àógcia', 'áógcia', 'âógcia', 'ãógcia', 'èógcia', 'éógcia', 'êógcia', 'ìógcia', 'íógcia', 'îógcia', 'òógcia', 'óógcia', 'ôógcia', 'õógcia', 'ùógcia', 'úógcia', 'ûógcia', 'çógcia', 'lagcia', 'lbgcia', 'lcgcia', 'ldgcia', 'legcia', 'lfgcia', 'lggcia', 'lhgcia', 'ligcia', 'ljgcia', 'lkgcia', 'llgcia', 'lmgcia', 'lngcia', 'logcia', 'lpgcia', 'lqgcia', 'lrgcia', 'lsgcia', 'ltgcia', 'lugcia', 'lvgcia', 'lwgcia', 'lxgcia', 'lygcia', 'lzgcia', 'làgcia', 'lágcia', 'lâgcia', 'lãgcia', 'lègcia', 'légcia', 'lêgcia', 'lìgcia', 'lígcia', 'lîgcia', 'lògcia', 'lógcia', 'lôgcia', 'lõgcia', 'lùgcia', 'lúgcia', 'lûgcia', 'lçgcia', 'lóacia', 'lóbcia', 'lóccia', 'lódcia', 'lóecia', 'lófcia', 'lógcia', 'lóhcia', 'lóicia', 'lójcia', 'lókcia', 'lólcia', 'lómcia', 'lóncia', 'lóocia', 'lópcia', 'lóqcia', 'lórcia', 'lóscia', 'lótcia', 'lóucia', 'lóvcia', 'lówcia', 'lóxcia', 'lóycia', 'lózcia', 'lóàcia', 'lóácia', 'lóâcia', 'lóãcia', 'lóècia', 'lóécia', 'lóêcia', 'lóìcia', 'lóícia', 'lóîcia', 'lóòcia', 'lóócia', 'lóôcia', 'lóõcia', 'lóùcia', 'lóúcia', 'lóûcia', 'lóçcia', 'lógaia', 'lógbia', 'lógcia', 'lógdia', 'lógeia', 'lógfia', 'lóggia', 'lóghia', 'lógiia', 'lógjia', 'lógkia', 'lóglia', 'lógmia', 'lógnia', 'lógoia', 'lógpia', 'lógqia', 'lógria', 'lógsia', 'lógtia', 'lóguia', 'lógvia', 'lógwia', 'lógxia', 'lógyia', 'lógzia', 'lógàia', 'lógáia', 'lógâia', 'lógãia', 'lógèia', 'lógéia', 'lógêia', 'lógìia', 'lógíia', 'lógîia', 'lógòia', 'lógóia', 'lógôia', 'lógõia', 'lógùia', 'lógúia', 'lógûia', 'lógçia', 'lógcaa', 'lógcba', 'lógcca', 'lógcda', 'lógcea', 'lógcfa', 'lógcga', 'lógcha', 'lógcia', 'lógcja', 'lógcka', 'lógcla', 'lógcma', 'lógcna', 'lógcoa', 'lógcpa', 'lógcqa', 'lógcra', 'lógcsa', 'lógcta', 'lógcua', 'lógcva', 'lógcwa', 'lógcxa', 'lógcya', 'lógcza', 'lógcàa', 'lógcáa', 'lógcâa', 'lógcãa', 'lógcèa', 'lógcéa', 'lógcêa', 'lógcìa', 'lógcía', 'lógcîa', 'lógcòa', 'lógcóa', 'lógcôa', 'lógcõa', 'lógcùa', 'lógcúa', 'lógcûa', 'lógcça', 'lógcia', 'lógcib', 'lógcic', 'lógcid', 'lógcie', 'lógcif', 'lógcig', 'lógcih', 'lógcii', 'lógcij', 'lógcik', 'lógcil', 'lógcim', 'lógcin', 'lógcio', 'lógcip', 'lógciq', 'lógcir', 'lógcis', 'lógcit', 'lógciu', 'lógciv', 'lógciw', 'lógcix', 'lógciy', 'lógciz', 'lógcià', 'lógciá', 'lógciâ', 'lógciã', 'lógciè', 'lógcié', 'lógciê', 'lógciì', 'lógcií', 'lógciî', 'lógciò', 'lógció', 'lógciô', 'lógciõ', 'lógciù', 'lógciú', 'lógciû', 'lógciç', 'lógciaa', 'lógciab', 'lógciac', 'lógciad', 'lógciae', 'lógciaf', 'lógciag', 'lógciah', 'lógciai', 'lógciaj', 'lógciak', 'lógcial', 'lógciam', 'lógcian', 'lógciao', 'lógciap', 'lógciaq', 'lógciar', 'lógcias', 'lógciat', 'lógciau', 'lógciav', 'lógciaw', 'lógciax', 'lógciay', 'lógciaz', 'lógciaà', 'lógciaá', 'lógciaâ', 'lógciaã', 'lógciaè', 'lógciaé', 'lógciaê', 'lógciaì', 'lógciaí', 'lógciaî', 'lógciaò', 'lógciaó', 'lógciaô', 'lógciaõ', 'lógciaù', 'lógciaú', 'lógciaû', 'lógciaç', 'ólgcia', 'lgócia', 'lócgia', 'lógica', 'lógcai']\n"
          ]
        }
      ]
    },
    {
      "cell_type": "markdown",
      "source": [
        "# Corretor v4"
      ],
      "metadata": {
        "id": "6g58_qx2tx7w"
      }
    },
    {
      "cell_type": "code",
      "source": [
        "corretor('lgóica')"
      ],
      "metadata": {
        "colab": {
          "base_uri": "https://localhost:8080/",
          "height": 35
        },
        "id": "le83Y0Jxtw0b",
        "outputId": "6d6abc1e-9270-4e1b-a60c-0d775b23be37"
      },
      "execution_count": 126,
      "outputs": [
        {
          "output_type": "execute_result",
          "data": {
            "text/plain": [
              "'lógica'"
            ],
            "application/vnd.google.colaboratory.intrinsic+json": {
              "type": "string"
            }
          },
          "metadata": {},
          "execution_count": 126
        }
      ]
    },
    {
      "cell_type": "code",
      "source": [
        "avaliador(lista_teste)"
      ],
      "metadata": {
        "colab": {
          "base_uri": "https://localhost:8080/"
        },
        "id": "g9WBxxvPoTIY",
        "outputId": "c02887b4-3786-427d-89f5-29452d493598"
      },
      "execution_count": 127,
      "outputs": [
        {
          "output_type": "stream",
          "name": "stdout",
          "text": [
            "Corrigindo 76.34% de 186 palavras\n"
          ]
        }
      ]
    },
    {
      "cell_type": "markdown",
      "source": [
        "# Avaliador de Palavras Desconhecidas"
      ],
      "metadata": {
        "id": "VxXGHwk6-opO"
      }
    },
    {
      "cell_type": "code",
      "source": [
        "def avaliador(testes, vocabulario):\n",
        "  numero_palavras = len(testes)\n",
        "  qtd_acerto = 0\n",
        "  qtd_desconhecida = 0\n",
        "  for palavra_correta, palavra_errada in testes:\n",
        "    palavra_corrigida = corretor(palavra_errada)\n",
        "    if palavra_corrigida == palavra_correta:\n",
        "      qtd_acerto += 1\n",
        "    else:\n",
        "      qtd_desconhecida += (palavra_correta not in vocabulario)\n",
        "  taxa_acerto = round(((qtd_acerto * 100) / numero_palavras), 2)\n",
        "  taxa_desconhecida = round(((qtd_desconhecida * 100) / numero_palavras), 2)\n",
        "  print(f'Corrigindo {taxa_acerto}% de {numero_palavras} palavras\\nTaxa de palavras desconhecidas {taxa_desconhecida}%')"
      ],
      "metadata": {
        "id": "isRhVBRV7WPr"
      },
      "execution_count": 131,
      "outputs": []
    },
    {
      "cell_type": "code",
      "source": [
        "vocabulario = set(lista_normalizada)"
      ],
      "metadata": {
        "id": "eeoe6LqF7WVd"
      },
      "execution_count": 132,
      "outputs": []
    },
    {
      "cell_type": "code",
      "source": [
        "avaliador(lista_teste, vocabulario)"
      ],
      "metadata": {
        "colab": {
          "base_uri": "https://localhost:8080/"
        },
        "id": "R8XSA_f87WbA",
        "outputId": "10cdef9b-3d89-4704-9669-3502173ff68c"
      },
      "execution_count": 133,
      "outputs": [
        {
          "output_type": "stream",
          "name": "stdout",
          "text": [
            "Corrigindo 76.34% de 186 palavras\n",
            "Taxa de palavras desconhecidas 6.99%\n"
          ]
        }
      ]
    },
    {
      "cell_type": "markdown",
      "source": [
        "# Aumentando a Capacidade do Gerador de Palavras"
      ],
      "metadata": {
        "id": "SBlTjLyGBIjH"
      }
    },
    {
      "cell_type": "markdown",
      "source": [
        "**Obs: O corretor até agora só é capaz de corrigir as palavras com apenas UM erro, conforme as funções \"insere_letras\", \"deletando_caracteres\", \"troca_letras\" e \"inverte_letras\" onde todas trabalham com erros de apenas UM carácter.**"
      ],
      "metadata": {
        "id": "yLVnJkHoBQKB"
      }
    },
    {
      "cell_type": "code",
      "source": [
        "def gerador_turbinado(palavras_geradas):\n",
        "  novas_palavras = []\n",
        "  for palavra in palavras_geradas:\n",
        "    novas_palavras += gerador_palavras(palavra)\n",
        "  return novas_palavras"
      ],
      "metadata": {
        "id": "dWc52LuLApd0"
      },
      "execution_count": 144,
      "outputs": []
    },
    {
      "cell_type": "code",
      "source": [
        "palavra_teste = 'lóiigica'\n",
        "palavras_gerador = gerador_palavras(palavra_teste)\n",
        "palavras_gerador_turbinado = gerador_turbinado(gerador_palavras(palavra_teste))\n",
        "\"lógica\" in palavras_gerador_turbinado"
      ],
      "metadata": {
        "colab": {
          "base_uri": "https://localhost:8080/"
        },
        "id": "M5zKwqUXA2HO",
        "outputId": "0095e866-2826-4b6a-8d38-858731b8ead9"
      },
      "execution_count": 141,
      "outputs": [
        {
          "output_type": "execute_result",
          "data": {
            "text/plain": [
              "True"
            ]
          },
          "metadata": {},
          "execution_count": 141
        }
      ]
    },
    {
      "cell_type": "code",
      "source": [
        "# Quantidade de palavras geradas com o gerador de palavras\n",
        "len(palavras_gerador)"
      ],
      "metadata": {
        "colab": {
          "base_uri": "https://localhost:8080/"
        },
        "id": "DjuFnK9PA2Pu",
        "outputId": "159749ad-faea-4f8f-ad76-3e7dd1255241"
      },
      "execution_count": 142,
      "outputs": [
        {
          "output_type": "execute_result",
          "data": {
            "text/plain": [
              "808"
            ]
          },
          "metadata": {},
          "execution_count": 142
        }
      ]
    },
    {
      "cell_type": "code",
      "source": [
        "# Quantidade de palavras geradas com o gerador de palavras turbinado\n",
        "len(palavras_gerador_turbinado)"
      ],
      "metadata": {
        "colab": {
          "base_uri": "https://localhost:8080/"
        },
        "id": "EKZIwWGtA2xB",
        "outputId": "f999de1c-cbbd-4a8d-b2b6-df8c08f6595d"
      },
      "execution_count": 143,
      "outputs": [
        {
          "output_type": "execute_result",
          "data": {
            "text/plain": [
              "691744"
            ]
          },
          "metadata": {},
          "execution_count": 143
        }
      ]
    },
    {
      "cell_type": "markdown",
      "source": [
        "# Excluindo os Lixos Gerados pelo Gerador de Palavras"
      ],
      "metadata": {
        "id": "NApeVHvgDwcf"
      }
    },
    {
      "cell_type": "code",
      "source": [
        "def corretor(palavra):\n",
        "  palavras_geradas = gerador_palavras(palavra)\n",
        "  print(len(palavras_geradas))\n",
        "  palavra_correta = max(palavras_geradas, key=probabilidade)\n",
        "  return palavra_correta\n",
        "\n",
        "\n",
        "def novo_corretor(palavra):\n",
        "  palavras_geradas = gerador_palavras(palavra)\n",
        "  palavras_gerador_turbinado = gerador_turbinado(palavras_geradas)\n",
        "  todas_palavras = set(palavras_geradas + palavras_gerador_turbinado)\n",
        "  candidatos = [palavra]\n",
        "  for palavra in todas_palavras:\n",
        "    if palavra in vocabulario:\n",
        "      candidatos.append(palavra)\n",
        "  print(len(candidatos))\n",
        "  palavra_correta = max(candidatos, key=probabilidade)\n",
        "  return palavra_correta"
      ],
      "metadata": {
        "id": "ss-aLtBoA25A"
      },
      "execution_count": 152,
      "outputs": []
    },
    {
      "cell_type": "code",
      "source": [
        "palavra_teste = 'lóiigica'"
      ],
      "metadata": {
        "id": "LySco-1NAphp"
      },
      "execution_count": 153,
      "outputs": []
    },
    {
      "cell_type": "code",
      "source": [
        "corretor(palavra_teste)"
      ],
      "metadata": {
        "colab": {
          "base_uri": "https://localhost:8080/",
          "height": 53
        },
        "id": "oQkc3wP6EzR2",
        "outputId": "0e1fb419-535a-4f0b-c74c-ac85bcf0fa13"
      },
      "execution_count": 154,
      "outputs": [
        {
          "output_type": "stream",
          "name": "stdout",
          "text": [
            "808\n"
          ]
        },
        {
          "output_type": "execute_result",
          "data": {
            "text/plain": [
              "'alóiigica'"
            ],
            "application/vnd.google.colaboratory.intrinsic+json": {
              "type": "string"
            }
          },
          "metadata": {},
          "execution_count": 154
        }
      ]
    },
    {
      "cell_type": "markdown",
      "source": [
        "# Corretor v5"
      ],
      "metadata": {
        "id": "bzHSXLU4Jeyu"
      }
    },
    {
      "cell_type": "code",
      "source": [
        "novo_corretor(palavra_teste)"
      ],
      "metadata": {
        "colab": {
          "base_uri": "https://localhost:8080/",
          "height": 53
        },
        "id": "vmILzkpqEzdh",
        "outputId": "87bbcbd9-1d83-4fec-cabb-3b1ac0dde6e3"
      },
      "execution_count": 155,
      "outputs": [
        {
          "output_type": "stream",
          "name": "stdout",
          "text": [
            "2\n"
          ]
        },
        {
          "output_type": "execute_result",
          "data": {
            "text/plain": [
              "'lógica'"
            ],
            "application/vnd.google.colaboratory.intrinsic+json": {
              "type": "string"
            }
          },
          "metadata": {},
          "execution_count": 155
        }
      ]
    },
    {
      "cell_type": "markdown",
      "source": [
        "# Avaliador para o Novo Corretor de Palavras"
      ],
      "metadata": {
        "id": "o4u_WGn5GO71"
      }
    },
    {
      "cell_type": "code",
      "source": [
        "def novo_avaliador(testes, vocabulario):\n",
        "  numero_palavras = len(testes)\n",
        "  qtd_acerto = 0\n",
        "  qtd_desconhecida = 0\n",
        "  for palavra_correta, palavra_errada in testes:\n",
        "    palavra_corrigida = novo_corretor(palavra_errada)\n",
        "    if palavra_corrigida == palavra_correta:\n",
        "      qtd_acerto += 1\n",
        "    else:\n",
        "      qtd_desconhecida += (palavra_correta not in vocabulario)\n",
        "  taxa_acerto = round(((qtd_acerto * 100) / numero_palavras), 2)\n",
        "  taxa_desconhecida = round(((qtd_desconhecida * 100) / numero_palavras), 2)\n",
        "  print(f'Corrigindo {taxa_acerto}% de {numero_palavras} palavras\\nTaxa de palavras desconhecidas {taxa_desconhecida}%')"
      ],
      "metadata": {
        "id": "YMwQYbZfEzmG"
      },
      "execution_count": 158,
      "outputs": []
    },
    {
      "cell_type": "code",
      "source": [
        "novo_avaliador(lista_teste, vocabulario)"
      ],
      "metadata": {
        "colab": {
          "base_uri": "https://localhost:8080/"
        },
        "id": "xlxhV-csGfEl",
        "outputId": "8b1aaba4-abab-4f70-9c5a-eff38500b79a"
      },
      "execution_count": 159,
      "outputs": [
        {
          "output_type": "stream",
          "name": "stdout",
          "text": [
            "Corrigindo 55.38% de 186 palavras\n",
            "Taxa de palavras desconhecidas 6.45%\n"
          ]
        }
      ]
    },
    {
      "cell_type": "markdown",
      "source": [
        "## Corrigindo a taxa variável de palavras"
      ],
      "metadata": {
        "id": "aqIxz2i8G9Pd"
      }
    },
    {
      "cell_type": "code",
      "source": [
        "def avaliador(testes, vocabulario):\n",
        "  numero_palavras = len(testes)\n",
        "  qtd_acerto = 0\n",
        "  qtd_desconhecida = 0\n",
        "  for palavra_correta, palavra_errada in testes:\n",
        "    palavra_corrigida = corretor(palavra_errada)\n",
        "    qtd_desconhecida += (palavra_correta not in vocabulario)\n",
        "    if palavra_corrigida == palavra_correta:\n",
        "      qtd_acerto += 1\n",
        "  taxa_acerto = round(((qtd_acerto * 100) / numero_palavras), 2)\n",
        "  taxa_desconhecida = round(((qtd_desconhecida * 100) / numero_palavras), 2)\n",
        "  print(f'Corrigindo {taxa_acerto}% de {numero_palavras} palavras\\nTaxa de palavras desconhecidas {taxa_desconhecida}%')\n",
        "\n",
        "\n",
        "def novo_avaliador(testes, vocabulario):\n",
        "  numero_palavras = len(testes)\n",
        "  qtd_acerto = 0\n",
        "  qtd_desconhecida = 0\n",
        "  for palavra_correta, palavra_errada in testes:\n",
        "    palavra_corrigida = novo_corretor(palavra_errada)\n",
        "    qtd_desconhecida += (palavra_correta not in vocabulario)\n",
        "    if palavra_corrigida == palavra_correta:\n",
        "      qtd_acerto += 1\n",
        "  taxa_acerto = round(((qtd_acerto * 100) / numero_palavras), 2)\n",
        "  taxa_desconhecida = round(((qtd_desconhecida * 100) / numero_palavras), 2)\n",
        "  print(f'Corrigindo {taxa_acerto}% de {numero_palavras} palavras\\nTaxa de palavras desconhecidas {taxa_desconhecida}%')"
      ],
      "metadata": {
        "id": "vCCgzq8RHCuO"
      },
      "execution_count": 163,
      "outputs": []
    },
    {
      "cell_type": "code",
      "source": [
        "novo_avaliador(lista_teste, vocabulario)"
      ],
      "metadata": {
        "colab": {
          "base_uri": "https://localhost:8080/"
        },
        "id": "54XudMxGHRTt",
        "outputId": "6c7196ff-fd61-4165-a191-46d40c655625"
      },
      "execution_count": 164,
      "outputs": [
        {
          "output_type": "stream",
          "name": "stdout",
          "text": [
            "Corrigindo 55.38% de 186 palavras\n",
            "Taxa de palavras desconhecidas 6.99%\n"
          ]
        }
      ]
    },
    {
      "cell_type": "markdown",
      "source": [
        "## Corrigindo a taxa de acerto de palavras\n"
      ],
      "metadata": {
        "id": "1vuP0lAXHu5p"
      }
    },
    {
      "cell_type": "code",
      "source": [
        "def novo_avaliador(testes, vocabulario):\n",
        "  numero_palavras = len(testes)\n",
        "  qtd_acerto = 0\n",
        "  qtd_desconhecida = 0\n",
        "  for palavra_correta, palavra_errada in testes:\n",
        "    palavra_corrigida = novo_corretor(palavra_errada)\n",
        "    qtd_desconhecida += (palavra_correta not in vocabulario)\n",
        "    if palavra_corrigida == palavra_correta:\n",
        "      qtd_acerto += 1\n",
        "    else:\n",
        "      print(palavra_errada + '-' + corretor(palavra_errada) + '-' + palavra_corrigida)\n",
        "  taxa_acerto = round(((qtd_acerto * 100) / numero_palavras), 2)\n",
        "  taxa_desconhecida = round(((qtd_desconhecida * 100) / numero_palavras), 2)\n",
        "  print(f'Corrigindo {taxa_acerto}% de {numero_palavras} palavras\\nTaxa de palavras desconhecidas {taxa_desconhecida}%')"
      ],
      "metadata": {
        "id": "kzQNCO5jHmql"
      },
      "execution_count": 165,
      "outputs": []
    },
    {
      "cell_type": "code",
      "source": [
        "novo_avaliador(lista_teste, vocabulario)"
      ],
      "metadata": {
        "colab": {
          "base_uri": "https://localhost:8080/"
        },
        "id": "-H6h_gl9HmzQ",
        "outputId": "1f7bd481-ae4f-4ea4-8a79-2fa3b9f0ccdf"
      },
      "execution_count": 166,
      "outputs": [
        {
          "output_type": "stream",
          "name": "stdout",
          "text": [
            "esje-esse-se\n",
            "sãêo-são-não\n",
            "dosa-dos-do\n",
            "eme-em-de\n",
            "eàssa-essa-esse\n",
            "daõs-das-da\n",
            "céda-cada-da\n",
            "noâ-no-o\n",
            "enêão-então-não\n",
            "tĩem-tem-em\n",
            "nossah-nossa-nosso\n",
            "teb-tem-de\n",
            "atĩ-até-a\n",
            "âem-em-de\n",
            "foo-foi-o\n",
            "serr-ser-se\n",
            "entke-entre-então\n",
            "van-vai-a\n",
            "çeus-seus-seu\n",
            "eû-e-de\n",
            "temeo-tempo-temos\n",
            "semre-sempre-ser\n",
            "elaá-ela-ele\n",
            "síó-só-se\n",
            "siàe-site-se\n",
            "seém-sem-em\n",
            "peln-pelo-ele\n",
            "aléra-alura-agora\n",
            "tdia-dia-da\n",
            "tuúo-tudo-tipo\n",
            "jé-é-de\n",
            "sãô-são-não\n",
            "odos-dos-do\n",
            "siua-sua-seu\n",
            "elpe-ele-esse\n",
            "teos-temos-os\n",
            "eũsa-essa-esse\n",
            "vjmos-vamos-temos\n",
            "dms-dos-de\n",
            "cava-java-para\n",
            "ános-nos-no\n",
            "èaso-caso-as\n",
            "túem-tem-em\n",
            "daáos-dados-dos\n",
            "nossk-nosso-nosso\n",
            "tãer-ter-ser\n",
            "vté-até-é\n",
            "búm-bem-um\n",
            "sçerá-será-ser\n",
            "entró-entre-então\n",
            "uai-vai-a\n",
            "sâus-seus-seu\n",
            "ìeu-seu-de\n",
            "fual-qual-sua\n",
            "elal-ela-ele\n",
            "skó-só-se\n",
            "secm-sem-em\n",
            "aluéa-alura-além\n",
            "dil-dia-de\n",
            "sód-só-se\n",
            "eúaa-aeúaa-essa\n",
            "ró-só-de\n",
            "dĩaz-adĩaz-da\n",
            "correptor-corretor-correto\n",
            "trtica-tática-prática\n",
            "ewpoderamento-aewpoderamento-ewpoderamento\n",
            "îgato-gato-fato\n",
            "cakvalo-acakvalo-carvalho\n",
            "canelac-acanelac-janela\n",
            "tênisy-atênisy-tênisy\n",
            "anciosa-aanciosa-ansioso\n",
            "ancciosa-aancciosa-ancciosa\n",
            "ansioa-aansioa-antiga\n",
            "asterístico-aasterístico-asterístico\n",
            "entertido-aentertido-entendido\n",
            "ritimo-ritmo-ótimo\n",
            "indiota-aindiota-indica\n",
            "tomare-tomar-tomar\n",
            "seje-seja-se\n",
            "provalecer-aprovalecer-prevaleceu\n",
            "esteje-esteja-este\n",
            "mindigo-amindigo-indico\n",
            "pertubar-apertubar-derrubar\n",
            "Corrigindo 55.38% de 186 palavras\n",
            "Taxa de palavras desconhecidas 6.99%\n"
          ]
        }
      ]
    },
    {
      "cell_type": "markdown",
      "source": [
        "# Performance Final do Corretor"
      ],
      "metadata": {
        "id": "8fSAE4InJKn8"
      }
    },
    {
      "cell_type": "markdown",
      "source": [
        "**Pela baixa performance do \"novo_corretor\" e visando os dados atuais, foi opdator por permanecer com o primeiro corretor, finalizado na versão 4.**"
      ],
      "metadata": {
        "id": "Th65xhEJJP-l"
      }
    },
    {
      "cell_type": "code",
      "source": [
        "avaliador(lista_teste, vocabulario)"
      ],
      "metadata": {
        "colab": {
          "base_uri": "https://localhost:8080/"
        },
        "id": "CVoUX0gVHm4O",
        "outputId": "c08d7744-5b1b-49db-df54-cc9021eaff57"
      },
      "execution_count": 167,
      "outputs": [
        {
          "output_type": "stream",
          "name": "stdout",
          "text": [
            "Corrigindo 76.34% de 186 palavras\n",
            "Taxa de palavras desconhecidas 6.99%\n"
          ]
        }
      ]
    },
    {
      "cell_type": "markdown",
      "source": [
        "# Funções Trabalhadas para o Corretor de Palavras"
      ],
      "metadata": {
        "id": "m4NsBrV2FkrB"
      }
    },
    {
      "cell_type": "code",
      "source": [
        "def separa_palavras(lista_tokens):\n",
        "  lista_palavras = []\n",
        "  for token in lista_tokens:\n",
        "    if token.isalpha():\n",
        "      lista_palavras.append(token)\n",
        "  return lista_palavras\n",
        "\n",
        "\n",
        "def normalizacao(lista_palavras):\n",
        "  lista_normalizada = []\n",
        "  for palavra in lista_palavras:\n",
        "    lista_normalizada.append(palavra.lower())\n",
        "  return lista_normalizada"
      ],
      "metadata": {
        "id": "4SQAE9KeF5z0"
      },
      "execution_count": 168,
      "outputs": []
    },
    {
      "cell_type": "code",
      "source": [
        "def insere_letras(fatias):\n",
        "  novas_palavras = []\n",
        "  letras = 'abcdefghijklmnopqrstuvwxyzàáâãèéêìíîòóôõùúûç'\n",
        "  for lado_esquerdo_str, lado_direito_str in fatias:\n",
        "    for letra in letras:\n",
        "      novas_palavras.append(lado_esquerdo_str + letra + lado_direito_str)\n",
        "  return novas_palavras\n",
        "\n",
        "\n",
        "def deletando_caracteres(fatias):\n",
        "  novas_palavras = []\n",
        "  for lado_esquerdo_str, lado_direito_str in fatias:\n",
        "    novas_palavras.append(lado_esquerdo_str + lado_direito_str[1:])\n",
        "  return novas_palavras\n",
        "\n",
        "\n",
        "def troca_letras(fatias):\n",
        "  novas_palavras = []\n",
        "  letras = 'abcdefghijklmnopqrstuvwxyzàáâãèéêìíîòóôõùúûç'\n",
        "  for lado_esquerdo_str, lado_direito_str in fatias:\n",
        "    for letra in letras:\n",
        "      novas_palavras.append(lado_esquerdo_str + letra + lado_direito_str[1:])\n",
        "  return novas_palavras\n",
        "\n",
        "\n",
        "def inverte_letras(fatias):\n",
        "  novas_palavras = []\n",
        "  for lado_esquerdo_str, lado_direito_str in fatias:\n",
        "    if len(lado_direito_str) > 1:\n",
        "      novas_palavras.append(lado_esquerdo_str + lado_direito_str[1] + lado_direito_str[0] + lado_direito_str[2:])\n",
        "  return novas_palavras\n",
        "\n",
        "\n",
        "def gerador_palavras(palavra):\n",
        "  fatias = []\n",
        "  for i in range(len(palavra) + 1):\n",
        "    fatias.append((palavra[:i], palavra[i:]))\n",
        "  palavras_geradas = insere_letras(fatias)\n",
        "  palavras_geradas += deletando_caracteres(fatias)\n",
        "  palavras_geradas += troca_letras(fatias)\n",
        "  palavras_geradas += inverte_letras(fatias)\n",
        "  return palavras_geradas\n",
        "\n",
        "\n",
        "def gerador_turbinado(palavras_geradas):\n",
        "  novas_palavras = []\n",
        "  for palavra in palavras_geradas:\n",
        "    novas_palavras += gerador_palavras(palavra)\n",
        "  return novas_palavras"
      ],
      "metadata": {
        "id": "u-L9GYsCoTM0"
      },
      "execution_count": 169,
      "outputs": []
    },
    {
      "cell_type": "code",
      "source": [
        "def probabilidade(palavra_gerada):\n",
        "  return frequencia[palavra_gerada] / total_palavras\n",
        "\n",
        "def avaliador(testes, vocabulario):\n",
        "  numero_palavras = len(testes)\n",
        "  qtd_acerto = 0\n",
        "  qtd_desconhecida = 0\n",
        "  for palavra_correta, palavra_errada in testes:\n",
        "    palavra_corrigida = corretor(palavra_errada)\n",
        "    qtd_desconhecida += (palavra_correta not in vocabulario)\n",
        "    if palavra_corrigida == palavra_correta:\n",
        "      qtd_acerto += 1\n",
        "  taxa_acerto = round(((qtd_acerto * 100) / numero_palavras), 2)\n",
        "  taxa_desconhecida = round(((qtd_desconhecida * 100) / numero_palavras), 2)\n",
        "  print(f'Corrigindo {taxa_acerto}% de {numero_palavras} palavras\\nTaxa de palavras desconhecidas {taxa_desconhecida}%')\n",
        "\n",
        "\n",
        "def novo_avaliador(testes, vocabulario):\n",
        "  numero_palavras = len(testes)\n",
        "  qtd_acerto = 0\n",
        "  qtd_desconhecida = 0\n",
        "  for palavra_correta, palavra_errada in testes:\n",
        "    palavra_corrigida = novo_corretor(palavra_errada)\n",
        "    qtd_desconhecida += (palavra_correta not in vocabulario)\n",
        "    if palavra_corrigida == palavra_correta:\n",
        "      qtd_acerto += 1\n",
        "  taxa_acerto = round(((qtd_acerto * 100) / numero_palavras), 2)\n",
        "  taxa_desconhecida = round(((qtd_desconhecida * 100) / numero_palavras), 2)\n",
        "  print(f'Corrigindo {taxa_acerto}% de {numero_palavras} palavras\\nTaxa de palavras desconhecidas {taxa_desconhecida}%')\n",
        "\n",
        "\n",
        "def corretor(palavra):\n",
        "  palavras_geradas = gerador_palavras(palavra)\n",
        "  palavra_correta = max(palavras_geradas, key=probabilidade)\n",
        "  return palavra_correta\n",
        "\n",
        "\n",
        "def novo_corretor(palavra):\n",
        "  palavras_geradas = gerador_palavras(palavra)\n",
        "  palavras_gerador_turbinado = gerador_turbinado(palavras_geradas)\n",
        "  todas_palavras = set(palavras_geradas + palavras_gerador_turbinado)\n",
        "  candidatos = [palavra]\n",
        "  for palavra in todas_palavras:\n",
        "    if palavra in vocabulario:\n",
        "      candidatos.append(palavra)\n",
        "  palavra_correta = max(candidatos, key=probabilidade)\n",
        "  return palavra_correta"
      ],
      "metadata": {
        "id": "wRXh7MoYoyb6"
      },
      "execution_count": 170,
      "outputs": []
    },
    {
      "cell_type": "markdown",
      "source": [
        "# Compração Entre os Corretores"
      ],
      "metadata": {
        "id": "JzgNrsjvJ-wk"
      }
    },
    {
      "cell_type": "code",
      "source": [
        "palavra = 'lgica'\n",
        "print(f'Novo Corretor: {novo_corretor(palavra)}')\n",
        "print(f'Primeiro Corretor: {corretor(palavra)}')"
      ],
      "metadata": {
        "colab": {
          "base_uri": "https://localhost:8080/"
        },
        "id": "fKHh6HtXo_BZ",
        "outputId": "b6113f38-9a4e-4079-c897-46bf1a88fbdc"
      },
      "execution_count": 175,
      "outputs": [
        {
          "output_type": "stream",
          "name": "stdout",
          "text": [
            "Novo Corretor: fica\n",
            "Primeiro Corretor: lógica\n"
          ]
        }
      ]
    },
    {
      "cell_type": "code",
      "source": [
        "palavra = 'lóigica'\n",
        "print(f'Novo Corretor: {novo_corretor(palavra)}')\n",
        "print(f'Primeiro Corretor: {corretor(palavra)}')"
      ],
      "metadata": {
        "colab": {
          "base_uri": "https://localhost:8080/"
        },
        "id": "sgLSGiyrKHQA",
        "outputId": "134fed31-58a8-4ada-c318-352ffd247283"
      },
      "execution_count": 176,
      "outputs": [
        {
          "output_type": "stream",
          "name": "stdout",
          "text": [
            "Novo Corretor: lógica\n",
            "Primeiro Corretor: lógica\n"
          ]
        }
      ]
    },
    {
      "cell_type": "code",
      "source": [
        "palavra = 'lóiigica'\n",
        "print(f'Novo Corretor: {novo_corretor(palavra)}')\n",
        "print(f'Primeiro Corretor: {corretor(palavra)}')"
      ],
      "metadata": {
        "colab": {
          "base_uri": "https://localhost:8080/"
        },
        "id": "Fuw_KhXQKTNe",
        "outputId": "c176d5a2-f727-4f46-99f0-384c1c58e7fb"
      },
      "execution_count": 177,
      "outputs": [
        {
          "output_type": "stream",
          "name": "stdout",
          "text": [
            "Novo Corretor: lógica\n",
            "Primeiro Corretor: alóiigica\n"
          ]
        }
      ]
    }
  ]
}